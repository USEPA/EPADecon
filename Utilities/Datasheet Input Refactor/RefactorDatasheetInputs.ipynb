{
 "metadata": {
  "language_info": {
   "codemirror_mode": {
    "name": "ipython",
    "version": 3
   },
   "file_extension": ".py",
   "mimetype": "text/x-python",
   "name": "python",
   "nbconvert_exporter": "python",
   "pygments_lexer": "ipython3",
   "version": "3.7.9-final"
  },
  "orig_nbformat": 2,
  "kernelspec": {
   "name": "python37964bit6948e85040df4f7a903ef3fe3c828cbd",
   "display_name": "Python 3.7.9 64-bit"
  }
 },
 "nbformat": 4,
 "nbformat_minor": 2,
 "cells": [
  {
   "cell_type": "code",
   "execution_count": 1,
   "metadata": {},
   "outputs": [],
   "source": [
    "import openpyxl\n",
    "import pandas as pd\n",
    "import numpy as np\n",
    "import matplotlib.pyplot as plt\n",
    "import operator"
   ]
  },
  {
   "cell_type": "code",
   "execution_count": 2,
   "metadata": {},
   "outputs": [],
   "source": [
    "class DataEntry:\n",
    "    def __init__(\n",
    "        self,\n",
    "        phase,\n",
    "        category,\n",
    "        name,\n",
    "        description,\n",
    "        units,\n",
    "        paramType,\n",
    "        param1,\n",
    "        param2,\n",
    "        param3,\n",
    "        param4,\n",
    "        param5,\n",
    "        param6,\n",
    "        param7,\n",
    "        lowerLimit,\n",
    "        upperLimit,\n",
    "        step,\n",
    "        applicationMethod,\n",
    "        surfaceType,\n",
    "        *args, \n",
    "        **kwargs):\n",
    "        self.Phase = phase\n",
    "        self.Category = category\n",
    "        self.Description = description\n",
    "        self.Name = name\n",
    "        self.Units = units\n",
    "        self.ParameterType = paramType\n",
    "        self.Param1 = param1 if param1 is not None else 0.0\n",
    "        self.Param2 = param2 if param2 is not None else 0.0\n",
    "        self.Param3 = param3 if param3 is not None else 0.0\n",
    "        self.Param4 = param4 if param4 is not None else 0.0\n",
    "        self.Param5 = param5 if param5 is not None else 0.0\n",
    "        self.Param6 = param6 if param6 is not None else 0.0\n",
    "        self.Param7 = param7 if param7 is not None else ''\n",
    "        self.LowerLimit = lowerLimit\n",
    "        self.UpperLimit = upperLimit\n",
    "        self.Step = step\n",
    "        self.ApplicationMethod = applicationMethod\n",
    "        self.SurfaceType = surfaceType\n",
    "\n",
    "    def __str__(self):\n",
    "        return f'Name = {self.Name};Type = {self.ParameterType}'\n",
    "    \n",
    "    @staticmethod\n",
    "    def FromExcel(row):\n",
    "        return DataEntry(\n",
    "            *(r.value for r in row)\n",
    "        )"
   ]
  },
  {
   "cell_type": "code",
   "execution_count": 3,
   "metadata": {},
   "outputs": [],
   "source": [
    "wb = openpyxl.load_workbook('ModifyParameters.xlsx')"
   ]
  },
  {
   "cell_type": "code",
   "execution_count": 8,
   "metadata": {},
   "outputs": [
    {
     "output_type": "execute_result",
     "data": {
      "text/plain": "['Aerosol',\n 'Foam Spray',\n 'Fogging',\n 'Fumigation',\n 'Gel',\n 'Liquid Immersion',\n 'Liquid Spray',\n 'Liquid Suspension',\n 'Liquid Wipe',\n 'Physical']"
     },
     "metadata": {},
     "execution_count": 8
    }
   ],
   "source": [
    "\n",
    "deconSheets = [\n",
    "    'Fumigation',\n",
    "    'Physical',\n",
    "    'Liquid Spray',\n",
    "    'Liquid Immersion',\n",
    "    'Foam Spray',\n",
    "    'Gel',\n",
    "    'Aerosol',\n",
    "    'Liquid Wipe',\n",
    "    'Fogging',\n",
    "    'Liquid Suspension'\n",
    "]\n",
    "deconSheets = sorted(deconSheets)\n",
    "deconSheets"
   ]
  },
  {
   "cell_type": "code",
   "execution_count": 5,
   "metadata": {
    "tags": []
   },
   "outputs": [
    {
     "output_type": "stream",
     "name": "stdout",
     "text": "Fumigation\nPhysical\nLiquid Spray\nLiquid Immersion\nFoam Spray\nGel\nAerosol\nLiquid Wipe\nFogging\nLiquid Suspension\n"
    }
   ],
   "source": [
    "for sheet_name in deconSheets:\n",
    "    print(sheet_name)\n",
    "    sheet = wb.get_sheet_by_name(sheet_name)\n",
    "    data_cells = [[sheet.cell(r,c) for c in range(1, sheet.max_column + 1)] for r in range(2, sheet.max_row + 1)]\n",
    "    entries = [DataEntry.FromExcel(r) for r in data_cells]\n",
    "    uniform_xd = [e for e in entries if e.ParameterType == 'UniformXDependent']\n",
    "\n",
    "    grouped = {}\n",
    "    for e in uniform_xd:\n",
    "        if e.SurfaceType + '-' + e.Param7 not in grouped:\n",
    "            grouped[e.SurfaceType + '-' + e.Param7] = []\n",
    "        grouped[e.SurfaceType + '-' + e.Param7].append(e)\n",
    "\n",
    "    if not os.path.exists(sheet_name):\n",
    "        os.makedirs(sheet_name)\n",
    "    for key in list(grouped.keys()):\n",
    "        starting = {(g.Param3, g.Param4) for g in grouped[key]}\n",
    "        ending = {(g.Param5, g.Param6) for g in grouped[key]}\n",
    "        points = list(starting|ending)\n",
    "        points = sorted(points, key=operator.itemgetter(0,1))\n",
    "        points = [list(p) for p in points]\n",
    "        f = open(f'{sheet_name}\\\\{key}.csv', 'w')\n",
    "        f.write('x,y\\n')\n",
    "        for p  in points:\n",
    "            x,y = tuple(p)\n",
    "            f.write(f'{x},{y}\\n')\n",
    "        f.close()"
   ]
  },
  {
   "cell_type": "code",
   "execution_count": 50,
   "metadata": {},
   "outputs": [],
   "source": []
  },
  {
   "cell_type": "code",
   "execution_count": null,
   "metadata": {},
   "outputs": [],
   "source": []
  }
 ]
}