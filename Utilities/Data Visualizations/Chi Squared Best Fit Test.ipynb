{
 "cells": [
  {
   "cell_type": "code",
   "execution_count": 1,
   "metadata": {},
   "outputs": [],
   "source": [
    "import pandas as pd\n",
    "import numpy as np\n",
    "import scipy\n",
    "from sklearn.preprocessing import StandardScaler\n",
    "import scipy.stats\n",
    "import matplotlib.pyplot as plt\n",
    "%matplotlib inline"
   ]
  },
  {
   "cell_type": "code",
   "execution_count": 2,
   "metadata": {},
   "outputs": [],
   "source": [
    "# read in the entire dataset\n",
    "master = pd.read_excel('..\\Data Cleanup\\cleaned_data.xlsx', sheet_name = 'master')\n",
    "\n",
    "master = master[(master['EffMeas'] == 'LR')]"
   ]
  },
  {
   "cell_type": "code",
   "execution_count": 3,
   "metadata": {},
   "outputs": [],
   "source": [
    "data = master[(master['AppMethod'] == 'fumigation') & (master['HVAC'] == 0) & (master['IndoorCarpet'] == 0) &\n",
    "                                 (master['Soil'] == 0) & (master['Roofing'] == 0) & (master['UndergroundCarpet'] == 0) & \n",
    "                                 (master['IndoorMisc'] == 1)]\n",
    "\n",
    "y = data.Eff.dropna().tolist()\n",
    "x = np.arange(len(y))\n",
    "size = len(y)"
   ]
  },
  {
   "cell_type": "code",
   "execution_count": 10,
   "metadata": {},
   "outputs": [
    {
     "name": "stdout",
     "output_type": "stream",
     "text": [
      "123\n"
     ]
    }
   ],
   "source": [
    "print(size)"
   ]
  },
  {
   "cell_type": "code",
   "execution_count": 4,
   "metadata": {},
   "outputs": [
    {
     "data": {
      "image/png": "[encoded data removed]",
      "text/plain": [
       "<Figure size 432x288 with 1 Axes>"
      ]
     },
     "metadata": {},
     "output_type": "display_data"
    }
   ],
   "source": [
    "plt.hist(y)\n",
    "plt.show()"
   ]
  },
  {
   "cell_type": "code",
   "execution_count": 5,
   "metadata": {},
   "outputs": [
    {
     "data": {
      "text/html": [
       "<div>\n",
       "<style scoped>\n",
       "    .dataframe tbody tr th:only-of-type {\n",
       "        vertical-align: middle;\n",
       "    }\n",
       "\n",
       "    .dataframe tbody tr th {\n",
       "        vertical-align: top;\n",
       "    }\n",
       "\n",
       "    .dataframe thead th {\n",
       "        text-align: right;\n",
       "    }\n",
       "</style>\n",
       "<table border=\"1\" class=\"dataframe\">\n",
       "  <thead>\n",
       "    <tr style=\"text-align: right;\">\n",
       "      <th></th>\n",
       "      <th>Data</th>\n",
       "    </tr>\n",
       "  </thead>\n",
       "  <tbody>\n",
       "    <tr>\n",
       "      <th>count</th>\n",
       "      <td>123.000000</td>\n",
       "    </tr>\n",
       "    <tr>\n",
       "      <th>mean</th>\n",
       "      <td>5.932040</td>\n",
       "    </tr>\n",
       "    <tr>\n",
       "      <th>std</th>\n",
       "      <td>2.079641</td>\n",
       "    </tr>\n",
       "    <tr>\n",
       "      <th>min</th>\n",
       "      <td>0.170000</td>\n",
       "    </tr>\n",
       "    <tr>\n",
       "      <th>25%</th>\n",
       "      <td>4.650000</td>\n",
       "    </tr>\n",
       "    <tr>\n",
       "      <th>50%</th>\n",
       "      <td>6.570000</td>\n",
       "    </tr>\n",
       "    <tr>\n",
       "      <th>75%</th>\n",
       "      <td>7.575000</td>\n",
       "    </tr>\n",
       "    <tr>\n",
       "      <th>max</th>\n",
       "      <td>8.860000</td>\n",
       "    </tr>\n",
       "  </tbody>\n",
       "</table>\n",
       "</div>"
      ],
      "text/plain": [
       "             Data\n",
       "count  123.000000\n",
       "mean     5.932040\n",
       "std      2.079641\n",
       "min      0.170000\n",
       "25%      4.650000\n",
       "50%      6.570000\n",
       "75%      7.575000\n",
       "max      8.860000"
      ]
     },
     "execution_count": 5,
     "metadata": {},
     "output_type": "execute_result"
    }
   ],
   "source": [
    "y_df = pd.DataFrame(data.Eff.tolist(), columns=['Data'])\n",
    "y_df.describe()"
   ]
  },
  {
   "cell_type": "code",
   "execution_count": 6,
   "metadata": {},
   "outputs": [],
   "source": [
    "sc=StandardScaler() \n",
    "yy = np.array(y).reshape(-1,1)\n",
    "sc.fit(yy)\n",
    "y_std =sc.transform(yy)\n",
    "y_std = y_std.flatten()\n",
    "y_std\n",
    "del yy"
   ]
  },
  {
   "cell_type": "code",
   "execution_count": 7,
   "metadata": {},
   "outputs": [],
   "source": [
    "dist_names = ['beta',\n",
    "              'truncexpon',\n",
    "              'gamma',\n",
    "              'lognorm',\n",
    "              'truncnorm',\n",
    "              'pearson3',\n",
    "              'triang',\n",
    "              'uniform',\n",
    "              'weibull_min', \n",
    "              'weibull_max']"
   ]
  },
  {
   "cell_type": "code",
   "execution_count": 8,
   "metadata": {},
   "outputs": [
    {
     "name": "stdout",
     "output_type": "stream",
     "text": [
      "\n",
      "Distributions sorted by goodness of fit:\n",
      "----------------------------------------\n",
      "  Distribution    chi_square  p_value\n",
      "6       triang     13.366420  0.09985\n",
      "0         beta     17.031885  0.02470\n",
      "9  weibull_max     23.875524  0.44699\n",
      "3      lognorm     56.166976  0.01021\n",
      "2        gamma     62.847341  0.00646\n",
      "7      uniform    903.257663  0.00000\n",
      "4    truncnorm   1268.856185  0.00000\n",
      "1   truncexpon   1792.005133  0.00000\n",
      "8  weibull_min   5259.813368  0.00000\n",
      "5     pearson3  11886.856598  0.00000\n"
     ]
    },
    {
     "name": "stderr",
     "output_type": "stream",
     "text": [
      "C:\\Users\\PERAZA\\AppData\\Local\\Continuum\\anaconda3\\lib\\site-packages\\scipy\\stats\\_continuous_distns.py:5823: RuntimeWarning: divide by zero encountered in log\n",
      "  self._logdelta = np.log(self._delta)\n",
      "C:\\Users\\PERAZA\\AppData\\Local\\Continuum\\anaconda3\\lib\\site-packages\\scipy\\stats\\_continuous_distns.py:5823: RuntimeWarning: invalid value encountered in log\n",
      "  self._logdelta = np.log(self._delta)\n"
     ]
    }
   ],
   "source": [
    "# Set up empty lists to store results\n",
    "chi_square = []\n",
    "p_values = []\n",
    "\n",
    "# Set up 50 bins for chi-square test\n",
    "# Observed data will be approximately evenly distrubuted aross all bins\n",
    "percentile_bins = np.linspace(0,100,51)\n",
    "percentile_cutoffs = np.percentile(y_std, percentile_bins)\n",
    "observed_frequency, bins = (np.histogram(y_std, bins=percentile_cutoffs))\n",
    "cum_observed_frequency = np.cumsum(observed_frequency)\n",
    "\n",
    "# Loop through candidate distributions\n",
    "\n",
    "for distribution in dist_names:\n",
    "    # Set up distribution and get fitted distribution parameters\n",
    "    dist = getattr(scipy.stats, distribution)\n",
    "    param = dist.fit(y_std)\n",
    "    \n",
    "    # Obtain the KS test P statistic, round it to 5 decimal places\n",
    "    p = scipy.stats.kstest(y_std, distribution, args=param)[1]\n",
    "    p = np.around(p, 5)\n",
    "    p_values.append(p)    \n",
    "    \n",
    "    # Get expected counts in percentile bins\n",
    "    # This is based on a 'cumulative distrubution function' (cdf)\n",
    "    cdf_fitted = dist.cdf(percentile_cutoffs, *param[:-2], loc=param[-2], \n",
    "                          scale=param[-1])\n",
    "    expected_frequency = []\n",
    "    for bin in range(len(percentile_bins)-1):\n",
    "        expected_cdf_area = cdf_fitted[bin+1] - cdf_fitted[bin]\n",
    "        expected_frequency.append(expected_cdf_area)\n",
    "    \n",
    "    # calculate chi-squared\n",
    "    expected_frequency = np.array(expected_frequency) * size\n",
    "    cum_expected_frequency = np.cumsum(expected_frequency)\n",
    "    ss = sum (((cum_expected_frequency - cum_observed_frequency) ** 2) / cum_observed_frequency)\n",
    "    chi_square.append(ss)\n",
    "        \n",
    "# Collate results and sort by goodness of fit (best at top)\n",
    "\n",
    "results = pd.DataFrame()\n",
    "results['Distribution'] = dist_names\n",
    "results['chi_square'] = chi_square\n",
    "results['p_value'] = p_values\n",
    "results.sort_values(['chi_square'], inplace=True)\n",
    "    \n",
    "# Report results\n",
    "\n",
    "print ('\\nDistributions sorted by goodness of fit:')\n",
    "print ('----------------------------------------')\n",
    "print (results)"
   ]
  },
  {
   "cell_type": "code",
   "execution_count": 9,
   "metadata": {},
   "outputs": [
    {
     "data": {
      "image/png": "[encoded data removed]",
      "text/plain": [
       "<Figure size 432x288 with 1 Axes>"
      ]
     },
     "metadata": {},
     "output_type": "display_data"
    },
    {
     "name": "stdout",
     "output_type": "stream",
     "text": [
      "\n",
      "Distribution parameters:\n",
      "------------------------\n",
      "\n",
      "Distribution: triang\n",
      "Parameters: (0.9999999313409134, 0.07275904671465822, 8.787242366709929)\n",
      "\n",
      "Distribution: beta\n",
      "Parameters: (2.4153622100812626, 0.8750028533795264, -0.7238049891818777, 9.583804989181878)\n",
      "\n",
      "Distribution: weibull_max\n",
      "Parameters: (0.7118770354995805, 8.860000000000001, 1.2768909888722604)\n"
     ]
    }
   ],
   "source": [
    "# Divide the observed data into 100 bins for plotting (this can be changed)\n",
    "number_of_bins = 100\n",
    "bin_cutoffs = np.linspace(np.percentile(y,0), np.percentile(y,99),number_of_bins)\n",
    "\n",
    "# Create the plot\n",
    "h = plt.hist(y, bins = bin_cutoffs, color='0.75')\n",
    "\n",
    "# Get the top three distributions from the previous phase\n",
    "number_distributions_to_plot = 3\n",
    "dist_names = results['Distribution'].iloc[0:number_distributions_to_plot]\n",
    "\n",
    "# Create an empty list to stroe fitted distribution parameters\n",
    "parameters = []\n",
    "\n",
    "# Loop through the distributions to get line fit and paraemters\n",
    "\n",
    "for dist_name in dist_names:\n",
    "    # Set up distribution and store distribution paraemters\n",
    "    dist = getattr(scipy.stats, dist_name)\n",
    "    param = dist.fit(y)\n",
    "    parameters.append(param)\n",
    "    \n",
    "    # Get line for each distribution (and scale to match observed data)\n",
    "    pdf_fitted = dist.pdf(x, *param[:-2], loc=param[-2], scale=param[-1])\n",
    "    scale_pdf = np.trapz (h[0], h[1][:-1]) / np.trapz (pdf_fitted, x)\n",
    "    pdf_fitted *= scale_pdf\n",
    "    \n",
    "    # Add the line to the plot\n",
    "    plt.plot(pdf_fitted, label=dist_name)\n",
    "    \n",
    "    # Set the plot x axis to contain 99% of the data\n",
    "    # This can be removed, but sometimes outlier data makes the plot less clear\n",
    "    plt.xlim(0,np.percentile(y,99))\n",
    "\n",
    "# Add legend and display plot\n",
    "\n",
    "plt.legend()\n",
    "plt.show()\n",
    "\n",
    "# Store distribution paraemters in a dataframe (this could also be saved)\n",
    "dist_parameters = pd.DataFrame()\n",
    "dist_parameters['Distribution'] = (\n",
    "        results['Distribution'].iloc[0:number_distributions_to_plot])\n",
    "dist_parameters['Distribution parameters'] = parameters\n",
    "\n",
    "# Print parameter results\n",
    "print ('\\nDistribution parameters:')\n",
    "print ('------------------------')\n",
    "\n",
    "for index, row in dist_parameters.iterrows():\n",
    "    print ('\\nDistribution:', row[0])\n",
    "    print ('Parameters:', row[1] )"
   ]
  }
 ],
 "metadata": {
  "kernelspec": {
   "display_name": "Python 3",
   "language": "python",
   "name": "python3"
  },
  "language_info": {
   "codemirror_mode": {
    "name": "ipython",
    "version": 3
   },
   "file_extension": ".py",
   "mimetype": "text/x-python",
   "name": "python",
   "nbconvert_exporter": "python",
   "pygments_lexer": "ipython3",
   "version": "3.6.5"
  }
 },
 "nbformat": 4,
 "nbformat_minor": 2
}
