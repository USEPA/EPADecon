{
 "cells": [
  {
   "cell_type": "code",
   "execution_count": 1,
   "metadata": {},
   "outputs": [],
   "source": [
    "import pandas as pd\n",
    "import matplotlib.pyplot as plt\n",
    "import math\n",
    "import numpy as np"
   ]
  },
  {
   "cell_type": "code",
   "execution_count": 2,
   "metadata": {},
   "outputs": [],
   "source": [
    "# read in the new cleaned datasheet\n",
    "master = pd.read_excel('..\\Data Cleanup\\cleaned_data.xlsx', sheet_name = 'master')"
   ]
  },
  {
   "cell_type": "code",
   "execution_count": 3,
   "metadata": {},
   "outputs": [],
   "source": [
    "surfaceCats = ['IndoorInterior', 'IndoorExterior', 'IndoorCarpet', 'IndoorNonCarpet', 'IndoorCeilings', 'HVAC','IndoorMisc', \n",
    "               'OutdoorExterior', 'Roofing', 'Pavement', 'Water', 'Soil', 'OutdoorMisc', 'UndergroundInterior', \n",
    "               'UndergroundCarpet', 'UndergroundNonCarpet', 'UndergroundCeilings', 'UndergroundMisc']\n",
    "\n",
    "methods = master.AppMethod.unique().tolist()"
   ]
  },
  {
   "cell_type": "code",
   "execution_count": 4,
   "metadata": {},
   "outputs": [],
   "source": [
    "methods.remove('liquid soaked gauze wipe')\n",
    "methods.remove('liquid soaked gauze covering')\n",
    "methods.remove('aqueous suspension')"
   ]
  },
  {
   "cell_type": "code",
   "execution_count": 5,
   "metadata": {},
   "outputs": [],
   "source": [
    "master = master[(master['LoadingUn'] == 'CFU/cm^2')]"
   ]
  },
  {
   "cell_type": "code",
   "execution_count": 6,
   "metadata": {},
   "outputs": [],
   "source": [
    "ld = pd.DataFrame()\n",
    "\n",
    "ld['Source'] = 'BioDecon Compendium'\n",
    "ld['Notes'] = master.Reference\n",
    "ld['Internal'] = np.nan\n",
    "ld['Category'] = 'Eff'\n",
    "ld['Name'] = 'PreDecon Spore Loading'\n",
    "ld['Units'] = 'CFU / ft^2'\n",
    "ld['Distribution Type'] = 'Constant'\n",
    "ld['Minimum'] = master.Loading / 0.00107639"
   ]
  },
  {
   "cell_type": "code",
   "execution_count": 7,
   "metadata": {},
   "outputs": [
    {
     "data": {
      "text/html": [
       "<div>\n",
       "<style scoped>\n",
       "    .dataframe tbody tr th:only-of-type {\n",
       "        vertical-align: middle;\n",
       "    }\n",
       "\n",
       "    .dataframe tbody tr th {\n",
       "        vertical-align: top;\n",
       "    }\n",
       "\n",
       "    .dataframe thead th {\n",
       "        text-align: right;\n",
       "    }\n",
       "</style>\n",
       "<table border=\"1\" class=\"dataframe\">\n",
       "  <thead>\n",
       "    <tr style=\"text-align: right;\">\n",
       "      <th></th>\n",
       "      <th>Source</th>\n",
       "      <th>Notes</th>\n",
       "      <th>Internal</th>\n",
       "      <th>Category</th>\n",
       "      <th>Name</th>\n",
       "      <th>Units</th>\n",
       "      <th>Distribution Type</th>\n",
       "      <th>Minimum</th>\n",
       "    </tr>\n",
       "  </thead>\n",
       "  <tbody>\n",
       "    <tr>\n",
       "      <th>354</th>\n",
       "      <td>NaN</td>\n",
       "      <td>DeQueiroz 2008 Disinfection of Bacillus subtil...</td>\n",
       "      <td>NaN</td>\n",
       "      <td>Eff</td>\n",
       "      <td>PreDecon Spore Loading</td>\n",
       "      <td>CFU / ft^2</td>\n",
       "      <td>Constant</td>\n",
       "      <td>9.290313e+08</td>\n",
       "    </tr>\n",
       "    <tr>\n",
       "      <th>355</th>\n",
       "      <td>NaN</td>\n",
       "      <td>DeQueiroz 2008 Disinfection of Bacillus subtil...</td>\n",
       "      <td>NaN</td>\n",
       "      <td>Eff</td>\n",
       "      <td>PreDecon Spore Loading</td>\n",
       "      <td>CFU / ft^2</td>\n",
       "      <td>Constant</td>\n",
       "      <td>9.290313e+08</td>\n",
       "    </tr>\n",
       "    <tr>\n",
       "      <th>356</th>\n",
       "      <td>NaN</td>\n",
       "      <td>DeQueiroz 2008 Disinfection of Bacillus subtil...</td>\n",
       "      <td>NaN</td>\n",
       "      <td>Eff</td>\n",
       "      <td>PreDecon Spore Loading</td>\n",
       "      <td>CFU / ft^2</td>\n",
       "      <td>Constant</td>\n",
       "      <td>9.290313e+08</td>\n",
       "    </tr>\n",
       "    <tr>\n",
       "      <th>357</th>\n",
       "      <td>NaN</td>\n",
       "      <td>DeQueiroz 2008 Disinfection of Bacillus subtil...</td>\n",
       "      <td>NaN</td>\n",
       "      <td>Eff</td>\n",
       "      <td>PreDecon Spore Loading</td>\n",
       "      <td>CFU / ft^2</td>\n",
       "      <td>Constant</td>\n",
       "      <td>9.290313e+08</td>\n",
       "    </tr>\n",
       "    <tr>\n",
       "      <th>358</th>\n",
       "      <td>NaN</td>\n",
       "      <td>DeQueiroz 2008 Disinfection of Bacillus subtil...</td>\n",
       "      <td>NaN</td>\n",
       "      <td>Eff</td>\n",
       "      <td>PreDecon Spore Loading</td>\n",
       "      <td>CFU / ft^2</td>\n",
       "      <td>Constant</td>\n",
       "      <td>9.290313e+08</td>\n",
       "    </tr>\n",
       "  </tbody>\n",
       "</table>\n",
       "</div>"
      ],
      "text/plain": [
       "    Source                                              Notes  Internal  \\\n",
       "354    NaN  DeQueiroz 2008 Disinfection of Bacillus subtil...       NaN   \n",
       "355    NaN  DeQueiroz 2008 Disinfection of Bacillus subtil...       NaN   \n",
       "356    NaN  DeQueiroz 2008 Disinfection of Bacillus subtil...       NaN   \n",
       "357    NaN  DeQueiroz 2008 Disinfection of Bacillus subtil...       NaN   \n",
       "358    NaN  DeQueiroz 2008 Disinfection of Bacillus subtil...       NaN   \n",
       "\n",
       "    Category                    Name       Units Distribution Type  \\\n",
       "354      Eff  PreDecon Spore Loading  CFU / ft^2          Constant   \n",
       "355      Eff  PreDecon Spore Loading  CFU / ft^2          Constant   \n",
       "356      Eff  PreDecon Spore Loading  CFU / ft^2          Constant   \n",
       "357      Eff  PreDecon Spore Loading  CFU / ft^2          Constant   \n",
       "358      Eff  PreDecon Spore Loading  CFU / ft^2          Constant   \n",
       "\n",
       "          Minimum  \n",
       "354  9.290313e+08  \n",
       "355  9.290313e+08  \n",
       "356  9.290313e+08  \n",
       "357  9.290313e+08  \n",
       "358  9.290313e+08  "
      ]
     },
     "execution_count": 7,
     "metadata": {},
     "output_type": "execute_result"
    }
   ],
   "source": [
    "ld.head()"
   ]
  },
  {
   "cell_type": "code",
   "execution_count": 8,
   "metadata": {},
   "outputs": [],
   "source": [
    "with pd.ExcelWriter('dc_data.xlsx') as writer:  \n",
    "    ld.to_excel(writer, sheet_name='Loading Data')"
   ]
  }
 ],
 "metadata": {
  "kernelspec": {
   "display_name": "Python 3",
   "language": "python",
   "name": "python3"
  },
  "language_info": {
   "codemirror_mode": {
    "name": "ipython",
    "version": 3
   },
   "file_extension": ".py",
   "mimetype": "text/x-python",
   "name": "python",
   "nbconvert_exporter": "python",
   "pygments_lexer": "ipython3",
   "version": "3.6.5"
  }
 },
 "nbformat": 4,
 "nbformat_minor": 2
}
