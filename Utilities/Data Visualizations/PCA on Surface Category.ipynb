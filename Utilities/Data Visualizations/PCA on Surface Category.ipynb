{
 "cells": [
  {
   "cell_type": "code",
   "execution_count": 1,
   "metadata": {},
   "outputs": [],
   "source": [
    "import pandas as pd\n",
    "import numpy as np\n",
    "import matplotlib.pyplot as plt\n",
    "from sklearn.decomposition import PCA\n",
    "from sklearn.preprocessing import StandardScaler\n",
    "from sklearn.preprocessing import Imputer"
   ]
  },
  {
   "cell_type": "code",
   "execution_count": 2,
   "metadata": {},
   "outputs": [],
   "source": [
    "# read in the new cleaned datasheet\n",
    "df = pd.read_excel('..\\Data Cleanup\\cleaned_data.xlsx', sheet_name = 'master')"
   ]
  },
  {
   "cell_type": "code",
   "execution_count": 3,
   "metadata": {},
   "outputs": [],
   "source": [
    "data = df[(df['LoadingUn'] == 'CFU/cm^2') & (df['EffMeas'] == 'LR') & (df['AreaUn'] == 'cm^2') & (df['ConcDoseUn'] == \"g/mL\")]"
   ]
  },
  {
   "cell_type": "code",
   "execution_count": 4,
   "metadata": {},
   "outputs": [],
   "source": [
    "cd = pd.DataFrame()\n",
    "\n",
    "# cd['AppMethod'] = data.AppMethod\n",
    "cd['Loading'] = data.Loading\n",
    "cd['ConcDose'] = data.ConcDose\n",
    "cd['ClO2'] = data.ClO2\n",
    "cd['MB'] = data.MB\n",
    "cd['H2O2'] = data.H2O2\n",
    "cd['VolApp'] = data.VolApp\n",
    "cd['Temp'] = data.Temp\n",
    "cd['RH'] = data.RH\n",
    "cd['ContTime'] = data.ContTime\n",
    "cd['Eff'] = data.Eff\n",
    "cd['N'] = data.N\n",
    "cd['Rinsate'] = data.Rinsate\n",
    "cd['TotalApp'] = data.TotalApp\n",
    "cd['IndoorInterior'] = data.IndoorInterior\n",
    "cd['IndoorExterior'] = data.IndoorExterior\n",
    "cd['IndoorCarpet'] = data.IndoorCarpet\n",
    "cd['IndoorNonCarpet'] = data.IndoorNonCarpet\n",
    "cd['IndoorCeilings'] = data.IndoorCeilings\n",
    "cd['HVAC'] = data.HVAC\n",
    "cd['IndoorMisc'] = data.IndoorMisc\n",
    "cd['OutdoorExterior'] = data.OutdoorExterior\n",
    "cd['Roofing'] = data.Roofing\n",
    "cd['Pavement'] = data.Pavement\n",
    "cd['Water'] = data.Water\n",
    "cd['Soil'] = data.Soil\n",
    "cd['OutdoorMisc'] = data.OutdoorMisc\n",
    "cd['UndergroundInterior'] = data.UndergroundInterior\n",
    "cd['UndergroundCarpet'] = data.UndergroundCarpet\n",
    "cd['UndergroundNonCarpet'] = data.UndergroundNonCarpet\n",
    "cd['UndergroundCeilings'] = data.UndergroundCeilings\n",
    "cd['UndergroundMisc'] = data.UndergroundMisc"
   ]
  },
  {
   "cell_type": "code",
   "execution_count": 6,
   "metadata": {},
   "outputs": [],
   "source": [
    "surfaceCats = ['IndoorInterior', 'IndoorExterior', 'IndoorCarpet', 'IndoorNonCarpet', 'IndoorCeilings', 'HVAC','IndoorMisc', \n",
    "               'OutdoorExterior', 'Roofing', 'Pavement', 'Water', 'Soil', 'OutdoorMisc', 'UndergroundInterior', \n",
    "               'UndergroundCarpet', 'UndergroundNonCarpet', 'UndergroundCeilings', 'UndergroundMisc']"
   ]
  },
  {
   "cell_type": "code",
   "execution_count": 7,
   "metadata": {},
   "outputs": [],
   "source": [
    "params = [\n",
    "    #(\"Liquid Spray\", 1),\n",
    "    #(\"Foam Spray\", 2),\n",
    "    #(\"Liquid Immersion\", 3),\n",
    "    #(\"Gel\", 4),\n",
    "    #(\"Fumigation\", 5),\n",
    "    #(\"Aerosol\", 6),\n",
    "    #(\"Liquid Wipe\", 7),\n",
    "    (\"IndoorInterior\", 0),\n",
    "    #(\"IndoorExterior\", 0),\n",
    "    #(\"IndoorCarpet\", 0),\n",
    "    #(\"IndoorNonCarpet\", 0),\n",
    "    #(\"IndoorCeilings\", 0),\n",
    "    #(\"HVAC\", 0),\n",
    "    #(\"IndoorMisc\", 0),\n",
    "    #(\"OutdoorExterior\", 0),\n",
    "    #(\"Roofing\", 0),\n",
    "    #(\"Pavement\", 0),\n",
    "    #(\"Soil\", 0),\n",
    "    #(\"Water\", 0),\n",
    "    #(\"OutdoorMisc\", 0),\n",
    "    #(\"UndergroundInterior\", 0),\n",
    "    #(\"UndergroundCarpet\", 0),\n",
    "    #(\"UndergroundNonCarpet\", 0),\n",
    "    #(\"UndergroundCeilings\", 0),\n",
    "    #(\"UndergroundMisc\", 0)\n",
    "]"
   ]
  },
  {
   "cell_type": "code",
   "execution_count": 23,
   "metadata": {
    "scrolled": false
   },
   "outputs": [
    {
     "name": "stdout",
     "output_type": "stream",
     "text": [
      "1014\n"
     ]
    },
    {
     "data": {
      "image/png": "[encoded data removed]",
      "text/plain": [
       "<Figure size 432x288 with 1 Axes>"
      ]
     },
     "metadata": {},
     "output_type": "display_data"
    },
    {
     "name": "stdout",
     "output_type": "stream",
     "text": [
      "ContTime          0.694316\n",
      "VolApp            0.684994\n",
      "TotalApp          0.124722\n",
      "N                 0.070692\n",
      "MB                0.065894\n",
      "H2O2              0.008214\n",
      "IndoorInterior    0.000000\n",
      "Temp             -0.004030\n",
      "Rinsate          -0.023270\n",
      "Loading          -0.027596\n",
      "ClO2             -0.033996\n",
      "RH               -0.058385\n",
      "ConcDose         -0.133654\n",
      "Name: 0, dtype: float64\n",
      "0.6943155803148209\n",
      "       Loading      ConcDose       ClO2         MB     H2O2    VolApp  Temp  \\\n",
      "357   0.265979  4.165000e-07  11.401937  13.019112  6.25974  0.035749   6.0   \n",
      "364   0.265979  4.150000e-08  11.401937  13.019112  6.25974  0.035749   6.0   \n",
      "371   0.265979  4.165000e-07  11.401937  13.019112  6.25974  0.035749   6.0   \n",
      "1025  0.014716  8.333333e-10  11.401937  13.019112  6.25974  0.032875   6.0   \n",
      "1026  0.014716  1.166667e-09  11.401937  13.019112  6.25974  0.032875   6.0   \n",
      "\n",
      "            RH  ContTime         N   Rinsate  TotalApp       PC1  \n",
      "357   0.019702  0.009921  0.869565  1.642236       0.0  0.543645  \n",
      "364   0.019702  0.009921  0.869565  1.642236       0.0  0.543645  \n",
      "371   0.019702  0.009921  0.869565  1.642236       0.0  0.543645  \n",
      "1025  0.019702  0.001984  1.739130  1.642236       0.0  0.604571  \n",
      "1026  0.019702  0.001984  1.739130  1.642236       0.0  0.604571  \n"
     ]
    },
    {
     "data": {
      "image/png": "[encoded data removed]",
      "text/plain": [
       "<Figure size 432x288 with 1 Axes>"
      ]
     },
     "metadata": {},
     "output_type": "display_data"
    }
   ],
   "source": [
    "def pcaGenerator(category, counter):\n",
    "    \n",
    "    if counter == 0:\n",
    "        data_filtered = cd[(cd[category] == 1)]\n",
    "        \n",
    "        for columnName in surfaceCats:\n",
    "            if columnName != category:\n",
    "                data_filtered = data_filtered.drop(columnName, axis=1)\n",
    "    else:\n",
    "        data_filtered = cd[(cd['AppMethod'] == counter)]\n",
    "        \n",
    "        for columnName in surfaceCats:\n",
    "            data_filtered = data_filtered.drop(columnName, axis=1)\n",
    "\n",
    "    data_for_imputing = data_filtered.dropna(how='all', axis='columns')\n",
    "    \n",
    "    if len(data_for_imputing) > 0:\n",
    "        print(len(data_for_imputing))\n",
    "        \n",
    "        impute_missing = Imputer(strategy = 'mean')\n",
    "        data_imputed = pd.DataFrame(impute_missing.fit_transform(data_for_imputing))\n",
    "\n",
    "        data_imputed.columns = data_for_imputing.columns\n",
    "        data_imputed.index = data_for_imputing.index\n",
    "\n",
    "        Y = data_imputed['Eff']\n",
    "        data_imputed = data_imputed.drop('Eff', 1)\n",
    "        \n",
    "        scaler = StandardScaler()\n",
    "        data_scaled = scaler.fit_transform(data_imputed)\n",
    "        \n",
    "        pca = PCA()\n",
    "        pca.fit(data_scaled)\n",
    "\n",
    "        num_components = len(pca.explained_variance_ratio_)\n",
    "        ind = np.arange(num_components)\n",
    "        vals = pca.explained_variance_ratio_\n",
    "        plt.bar(ind, vals)\n",
    "        plt.plot(ind, np.cumsum(vals))\n",
    "        plt.xlabel('Principal Component')\n",
    "        plt.ylabel('Variance Explained (%)')\n",
    "        plt.title('Explained Variance Ratio for ' + category)\n",
    "        plt.show()\n",
    "\n",
    "        # plt.bar(ind, vals)\n",
    "        # plt.xlabel('Principal Component')\n",
    "        # plt.ylabel('Variance Explained (%)')\n",
    "        # plt.title('Explained Variance Ratio for ' + category)\n",
    "        # plt.show()\n",
    "\n",
    "        pca_comp = PCA(n_components=8)\n",
    "        pca_res = pca_comp.fit_transform(data_scaled)\n",
    "\n",
    "        dat = pd.DataFrame(pca_comp.components_, columns=list(data_imputed.columns))\n",
    "        weights = dat.iloc[0].sort_values(ascending=False)\n",
    "\n",
    "        print(weights.round(6))\n",
    "        \n",
    "        data_normalized = ((data_imputed - data_imputed.min()) / (data_imputed.max() - data_imputed.min())) * 20\n",
    "        final_data = data_normalized.drop('IndoorInterior', axis=1)\n",
    "        \n",
    "        print(weights[0])\n",
    "        \n",
    "        final_data['PC1'] = (final_data.ContTime * weights[0]) + (final_data.VolApp * weights[1]) + (final_data.TotalApp * weights[2]) + (final_data.N * weights[3]) + (final_data.MB * weights[4]) + (final_data.H2O2 * weights[5]) + (final_data.Temp * weights[7]) + (final_data.Rinsate * weights[8]) + (final_data.Loading * weights[9]) + (final_data.ClO2 * weights[10]) + (final_data.RH * weights[11]) + (final_data.ConcDose * weights[12])\n",
    "        \n",
    "        print(final_data.head())\n",
    "        \n",
    "        plt.scatter(Y, final_data.PC1)\n",
    "        \n",
    "for p in params:\n",
    "    pcaGenerator(*p)"
   ]
  }
 ],
 "metadata": {
  "kernelspec": {
   "display_name": "Python 3",
   "language": "python",
   "name": "python3"
  },
  "language_info": {
   "codemirror_mode": {
    "name": "ipython",
    "version": 3
   },
   "file_extension": ".py",
   "mimetype": "text/x-python",
   "name": "python",
   "nbconvert_exporter": "python",
   "pygments_lexer": "ipython3",
   "version": "3.6.5"
  }
 },
 "nbformat": 4,
 "nbformat_minor": 2
}
