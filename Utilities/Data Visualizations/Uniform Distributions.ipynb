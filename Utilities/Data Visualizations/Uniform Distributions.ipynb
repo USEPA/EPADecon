{
 "cells": [
  {
   "cell_type": "code",
   "execution_count": 1,
   "metadata": {},
   "outputs": [],
   "source": [
    "import pandas as pd\n",
    "import matplotlib.pyplot as plt\n",
    "import seaborn as sns\n",
    "import math"
   ]
  },
  {
   "cell_type": "code",
   "execution_count": 2,
   "metadata": {},
   "outputs": [],
   "source": [
    "# read in the entire dataset\n",
    "master = pd.read_excel('..\\Data Cleanup\\cleaned_data.xlsx', sheet_name = 'master')\n",
    "\n",
    "master = master[(master['EffMeas'] == 'LR') & (master['TotalApp'] == 1)]"
   ]
  },
  {
   "cell_type": "code",
   "execution_count": 4,
   "metadata": {},
   "outputs": [
    {
     "name": "stdout",
     "output_type": "stream",
     "text": [
      "(9, 53)\n"
     ]
    },
    {
     "name": "stderr",
     "output_type": "stream",
     "text": [
      "C:\\Users\\PERAZA\\AppData\\Local\\Continuum\\anaconda3\\lib\\site-packages\\matplotlib\\axes\\_axes.py:6462: UserWarning: The 'normed' kwarg is deprecated, and has been replaced by the 'density' kwarg.\n",
      "  warnings.warn(\"The 'normed' kwarg is deprecated, and has been \"\n"
     ]
    },
    {
     "data": {
      "text/html": [
       "<div>\n",
       "<style scoped>\n",
       "    .dataframe tbody tr th:only-of-type {\n",
       "        vertical-align: middle;\n",
       "    }\n",
       "\n",
       "    .dataframe tbody tr th {\n",
       "        vertical-align: top;\n",
       "    }\n",
       "\n",
       "    .dataframe thead th {\n",
       "        text-align: right;\n",
       "    }\n",
       "</style>\n",
       "<table border=\"1\" class=\"dataframe\">\n",
       "  <thead>\n",
       "    <tr style=\"text-align: right;\">\n",
       "      <th></th>\n",
       "      <th>params</th>\n",
       "    </tr>\n",
       "  </thead>\n",
       "  <tbody>\n",
       "    <tr>\n",
       "      <th>a</th>\n",
       "      <td>0.298755</td>\n",
       "    </tr>\n",
       "    <tr>\n",
       "      <th>b</th>\n",
       "      <td>7.600000</td>\n",
       "    </tr>\n",
       "    <tr>\n",
       "      <th>1/(b-a)</th>\n",
       "      <td>0.136963</td>\n",
       "    </tr>\n",
       "  </tbody>\n",
       "</table>\n",
       "</div>"
      ],
      "text/plain": [
       "           params\n",
       "a        0.298755\n",
       "b        7.600000\n",
       "1/(b-a)  0.136963"
      ]
     },
     "execution_count": 4,
     "metadata": {},
     "output_type": "execute_result"
    },
    {
     "data": {
      "image/png": "[encoded data removed]",
      "text/plain": [
       "<Figure size 432x288 with 1 Axes>"
      ]
     },
     "metadata": {},
     "output_type": "display_data"
    }
   ],
   "source": [
    "data = master[(master['AppMethod'] == 'gel')]\n",
    "print(data.shape)\n",
    "binSize = round(1 + (3.322 * math.log10(data.Eff.count())))\n",
    "\n",
    "sns.distplot(data.Eff.dropna(), norm_hist=True, kde_kws={\"linestyle\":\"\"}, bins=binSize)\n",
    "\n",
    "a = data.Eff.min()\n",
    "b = data.Eff.max()\n",
    "u = (1/(b - a))\n",
    "\n",
    "plt.hlines(u, a, b, colors='r', linestyles='solid', label='model', lw=3)\n",
    "\n",
    "plt.legend()\n",
    "plt.title('Gel')\n",
    "plt.xlabel('Efficacy (LR)')\n",
    "plt.ylabel('Probability')\n",
    "plt.ylim(0, 0.3)\n",
    "\n",
    "plt.vlines(a, 0, u, colors='r', linestyles='dashed')\n",
    "plt.vlines(b, 0, u, colors='r', linestyles='dashed')\n",
    "\n",
    "pd.DataFrame([[a], [b], [u]],columns=['params'], index=['a', 'b', '1/(b-a)'])"
   ]
  },
  {
   "cell_type": "code",
   "execution_count": 5,
   "metadata": {},
   "outputs": [
    {
     "name": "stdout",
     "output_type": "stream",
     "text": [
      "(14, 53)\n"
     ]
    },
    {
     "name": "stderr",
     "output_type": "stream",
     "text": [
      "C:\\Users\\PERAZA\\AppData\\Local\\Continuum\\anaconda3\\lib\\site-packages\\matplotlib\\axes\\_axes.py:6462: UserWarning: The 'normed' kwarg is deprecated, and has been replaced by the 'density' kwarg.\n",
      "  warnings.warn(\"The 'normed' kwarg is deprecated, and has been \"\n"
     ]
    },
    {
     "data": {
      "text/html": [
       "<div>\n",
       "<style scoped>\n",
       "    .dataframe tbody tr th:only-of-type {\n",
       "        vertical-align: middle;\n",
       "    }\n",
       "\n",
       "    .dataframe tbody tr th {\n",
       "        vertical-align: top;\n",
       "    }\n",
       "\n",
       "    .dataframe thead th {\n",
       "        text-align: right;\n",
       "    }\n",
       "</style>\n",
       "<table border=\"1\" class=\"dataframe\">\n",
       "  <thead>\n",
       "    <tr style=\"text-align: right;\">\n",
       "      <th></th>\n",
       "      <th>params</th>\n",
       "    </tr>\n",
       "  </thead>\n",
       "  <tbody>\n",
       "    <tr>\n",
       "      <th>a</th>\n",
       "      <td>0.400000</td>\n",
       "    </tr>\n",
       "    <tr>\n",
       "      <th>b</th>\n",
       "      <td>6.300000</td>\n",
       "    </tr>\n",
       "    <tr>\n",
       "      <th>1/(b-a)</th>\n",
       "      <td>0.169492</td>\n",
       "    </tr>\n",
       "  </tbody>\n",
       "</table>\n",
       "</div>"
      ],
      "text/plain": [
       "           params\n",
       "a        0.400000\n",
       "b        6.300000\n",
       "1/(b-a)  0.169492"
      ]
     },
     "execution_count": 5,
     "metadata": {},
     "output_type": "execute_result"
    },
    {
     "data": {
      "image/png": "[encoded data removed]",
      "text/plain": [
       "<Figure size 432x288 with 1 Axes>"
      ]
     },
     "metadata": {},
     "output_type": "display_data"
    }
   ],
   "source": [
    "data = master[(master['AppMethod'] == 'aerosol')]\n",
    "print(data.shape)\n",
    "binSize = round(1 + (3.322 * math.log10(data.Eff.count())))\n",
    "\n",
    "sns.distplot(data.Eff.dropna(), norm_hist=True, kde_kws={\"linestyle\":\"\"}, bins=binSize)\n",
    "\n",
    "a = data.Eff.min()\n",
    "b = data.Eff.max()\n",
    "u = (1/(b - a))\n",
    "\n",
    "plt.hlines(u, a, b, colors='r', linestyles='solid', label='model', lw=3)\n",
    "\n",
    "plt.legend()\n",
    "plt.title('Aerosol')\n",
    "plt.xlabel('Efficacy (LR)')\n",
    "plt.ylabel('Probability')\n",
    "\n",
    "plt.vlines(a, 0, u, colors='r', linestyles='dashed')\n",
    "plt.vlines(b, 0, u, colors='r', linestyles='dashed')\n",
    "\n",
    "pd.DataFrame([[a], [b], [u]],columns=['params'], index=['a', 'b', '1/(b-a)'])"
   ]
  },
  {
   "cell_type": "code",
   "execution_count": 6,
   "metadata": {},
   "outputs": [
    {
     "name": "stdout",
     "output_type": "stream",
     "text": [
      "(16, 53)\n"
     ]
    },
    {
     "name": "stderr",
     "output_type": "stream",
     "text": [
      "C:\\Users\\PERAZA\\AppData\\Local\\Continuum\\anaconda3\\lib\\site-packages\\matplotlib\\axes\\_axes.py:6462: UserWarning: The 'normed' kwarg is deprecated, and has been replaced by the 'density' kwarg.\n",
      "  warnings.warn(\"The 'normed' kwarg is deprecated, and has been \"\n"
     ]
    },
    {
     "data": {
      "text/html": [
       "<div>\n",
       "<style scoped>\n",
       "    .dataframe tbody tr th:only-of-type {\n",
       "        vertical-align: middle;\n",
       "    }\n",
       "\n",
       "    .dataframe tbody tr th {\n",
       "        vertical-align: top;\n",
       "    }\n",
       "\n",
       "    .dataframe thead th {\n",
       "        text-align: right;\n",
       "    }\n",
       "</style>\n",
       "<table border=\"1\" class=\"dataframe\">\n",
       "  <thead>\n",
       "    <tr style=\"text-align: right;\">\n",
       "      <th></th>\n",
       "      <th>params</th>\n",
       "    </tr>\n",
       "  </thead>\n",
       "  <tbody>\n",
       "    <tr>\n",
       "      <th>a</th>\n",
       "      <td>5.110000</td>\n",
       "    </tr>\n",
       "    <tr>\n",
       "      <th>b</th>\n",
       "      <td>7.400000</td>\n",
       "    </tr>\n",
       "    <tr>\n",
       "      <th>1/(b-a)</th>\n",
       "      <td>0.436681</td>\n",
       "    </tr>\n",
       "  </tbody>\n",
       "</table>\n",
       "</div>"
      ],
      "text/plain": [
       "           params\n",
       "a        5.110000\n",
       "b        7.400000\n",
       "1/(b-a)  0.436681"
      ]
     },
     "execution_count": 6,
     "metadata": {},
     "output_type": "execute_result"
    },
    {
     "data": {
      "image/png": "[encoded data removed]",
      "text/plain": [
       "<Figure size 432x288 with 1 Axes>"
      ]
     },
     "metadata": {},
     "output_type": "display_data"
    }
   ],
   "source": [
    "data = master[(master['AppMethod'] == 'fogging')]\n",
    "print(data.shape)\n",
    "binSize = round(1 + (3.322 * math.log10(data.Eff.count())))\n",
    "\n",
    "sns.distplot(data.Eff.dropna(), norm_hist=True, kde_kws={\"linestyle\":\"\"}, bins=binSize)\n",
    "\n",
    "a = data.Eff.min()\n",
    "b = data.Eff.max()\n",
    "u = (1/(b - a))\n",
    "\n",
    "plt.hlines(u, a, b, colors='r', linestyles='solid', label='model', lw=3)\n",
    "\n",
    "plt.legend()\n",
    "plt.title('Fogging')\n",
    "plt.xlabel('Efficacy (LR)')\n",
    "plt.ylabel('Probability')\n",
    "\n",
    "plt.vlines(a, 0, u, colors='r', linestyles='dashed')\n",
    "plt.vlines(b, 0, u, colors='r', linestyles='dashed')\n",
    "\n",
    "pd.DataFrame([[a], [b], [u]],columns=['params'], index=['a', 'b', '1/(b-a)'])"
   ]
  }
 ],
 "metadata": {
  "kernelspec": {
   "display_name": "Python 3",
   "language": "python",
   "name": "python3"
  },
  "language_info": {
   "codemirror_mode": {
    "name": "ipython",
    "version": 3
   },
   "file_extension": ".py",
   "mimetype": "text/x-python",
   "name": "python",
   "nbconvert_exporter": "python",
   "pygments_lexer": "ipython3",
   "version": "3.6.5"
  }
 },
 "nbformat": 4,
 "nbformat_minor": 2
}
