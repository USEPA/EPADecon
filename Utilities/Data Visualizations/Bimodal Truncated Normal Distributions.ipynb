{
 "cells": [
  {
   "cell_type": "code",
   "execution_count": 1,
   "metadata": {},
   "outputs": [],
   "source": [
    "import pandas as pd\n",
    "from sklearn import mixture\n",
    "import matplotlib.pyplot as plt\n",
    "import matplotlib.mlab as mlab\n",
    "import numpy as np\n",
    "from ast import literal_eval\n",
    "from scipy import optimize, stats, special\n",
    "import seaborn as sns\n",
    "import math\n",
    "import xlsxwriter\n",
    "from pylab import *\n",
    "from scipy.optimize import curve_fit\n",
    "import statistics\n",
    "from sklearn import metrics"
   ]
  },
  {
   "cell_type": "code",
   "execution_count": 2,
   "metadata": {},
   "outputs": [],
   "source": [
    "# read in the entire dataset\n",
    "master = pd.read_excel('..\\Data Cleanup\\cleaned_data.xlsx', sheet_name = 'master')\n",
    "\n",
    "master = master[(master['EffMeas'] == 'LR') & (master['TotalApp'] == 1)]"
   ]
  },
  {
   "cell_type": "code",
   "execution_count": 3,
   "metadata": {},
   "outputs": [
    {
     "name": "stdout",
     "output_type": "stream",
     "text": [
      "[1.594306   2.47834606 0.10212956 6.96837106 1.21996143 0.17039409]\n",
      "1.0\n",
      "871\n"
     ]
    },
    {
     "name": "stderr",
     "output_type": "stream",
     "text": [
      "C:\\Users\\PERAZA\\AppData\\Local\\Continuum\\anaconda3\\lib\\site-packages\\matplotlib\\axes\\_axes.py:6462: UserWarning: The 'normed' kwarg is deprecated, and has been replaced by the 'density' kwarg.\n",
      "  warnings.warn(\"The 'normed' kwarg is deprecated, and has been \"\n"
     ]
    },
    {
     "data": {
      "text/html": [
       "<div>\n",
       "<style scoped>\n",
       "    .dataframe tbody tr th:only-of-type {\n",
       "        vertical-align: middle;\n",
       "    }\n",
       "\n",
       "    .dataframe tbody tr th {\n",
       "        vertical-align: top;\n",
       "    }\n",
       "\n",
       "    .dataframe thead th {\n",
       "        text-align: right;\n",
       "    }\n",
       "</style>\n",
       "<table border=\"1\" class=\"dataframe\">\n",
       "  <thead>\n",
       "    <tr style=\"text-align: right;\">\n",
       "      <th></th>\n",
       "      <th>params</th>\n",
       "    </tr>\n",
       "  </thead>\n",
       "  <tbody>\n",
       "    <tr>\n",
       "      <th>mu1</th>\n",
       "      <td>1.594306</td>\n",
       "    </tr>\n",
       "    <tr>\n",
       "      <th>sigma1</th>\n",
       "      <td>2.478346</td>\n",
       "    </tr>\n",
       "    <tr>\n",
       "      <th>mu2</th>\n",
       "      <td>6.968371</td>\n",
       "    </tr>\n",
       "    <tr>\n",
       "      <th>sigma2</th>\n",
       "      <td>1.219961</td>\n",
       "    </tr>\n",
       "    <tr>\n",
       "      <th>a</th>\n",
       "      <td>0.000000</td>\n",
       "    </tr>\n",
       "    <tr>\n",
       "      <th>b</th>\n",
       "      <td>9.300000</td>\n",
       "    </tr>\n",
       "  </tbody>\n",
       "</table>\n",
       "</div>"
      ],
      "text/plain": [
       "          params\n",
       "mu1     1.594306\n",
       "sigma1  2.478346\n",
       "mu2     6.968371\n",
       "sigma2  1.219961\n",
       "a       0.000000\n",
       "b       9.300000"
      ]
     },
     "execution_count": 3,
     "metadata": {},
     "output_type": "execute_result"
    },
    {
     "data": {
      "image/png": "[encoded data removed]",
      "text/plain": [
       "<Figure size 432x288 with 1 Axes>"
      ]
     },
     "metadata": {},
     "output_type": "display_data"
    }
   ],
   "source": [
    "data = master[(master['AppMethod'] == 'fumigation') & (master['IndoorCarpet'] == 0) & (master['IndoorNonCarpet'] == 0) & \n",
    "              (master['IndoorCeilings'] == 0) & (master['HVAC'] == 0) & (master['IndoorMisc'] == 0) & (master['Roofing'] == 0) & \n",
    "              (master['UndergroundCarpet'] == 0) & (master['UndergroundNonCarpet'] == 0) & (master['UndergroundCeilings'] == 0)]\n",
    "\n",
    "def truncated_gaussian_lower(x,mu,sigma,A):\n",
    "    return A*np.exp((-(x-mu)**2)/(2*sigma**2))\n",
    "def truncated_gaussian_upper(x,mu,sigma,A):\n",
    "    return A * np.exp((-(x-mu)**2)/(2*sigma**2))\n",
    "def mix_model(x,mu1,sigma1,A1,mu2,sigma2,A2):\n",
    "    return truncated_gaussian_lower(x,mu1,sigma1,A1) + truncated_gaussian_upper(x,mu2,sigma2,A2)\n",
    "\n",
    "kde = stats.gaussian_kde(data.Eff.dropna())\n",
    "\n",
    "maxEff = data.Eff.max()\n",
    "\n",
    "expected = (1, 2, 160, 7, 1, 160)\n",
    "params, cov = optimize.curve_fit(f=mix_model, xdata=data.Eff.dropna(), ydata=kde.pdf(data.Eff.dropna()), p0=expected)\n",
    "print(params)\n",
    "\n",
    "x = np.arange(-5, 15, 0.001)\n",
    "\n",
    "a1 = (0 - params[0]) / params[1]\n",
    "b1 = (maxEff - params[0]) / params[1]\n",
    "\n",
    "a2 = (0 - params[3]) / params[4]\n",
    "b2 = (maxEff - params[3]) / params[4]\n",
    "\n",
    "y4 = stats.truncnorm.pdf(x, a1, b1, loc=params[0], scale=params[1]) + stats.truncnorm.pdf(x, a2, b2, loc=params[3], scale=params[4])\n",
    "y5 = (stats.truncnorm.pdf(x, a1, b1, loc=params[0], scale=params[1]) + stats.truncnorm.pdf(x, a2, b2, loc=params[3], scale=params[4])) / metrics.auc(x, y4)\n",
    "\n",
    "print(metrics.auc(x, y5))\n",
    "print(len(data))\n",
    "fig, ax = plt.subplots()\n",
    "sns.distplot(data.Eff.dropna(), norm_hist=True, kde_kws={\"linestyle\":\"\"})\n",
    "ax.axvline(0, linestyle=\":\", color=\"red\")\n",
    "ax.axvline(maxEff, linestyle=\":\", color=\"red\")\n",
    "plt.plot(x, y5, color='red')\n",
    "\n",
    "plt.xlim(-1, 10)\n",
    "ax.set(xlabel='Efficacy (LR)', ylabel='Probability', title='Fumigation')\n",
    "\n",
    "dfParams = pd.DataFrame(data={'params':params},index=mix_model.__code__.co_varnames[1:])\n",
    "dfParams = dfParams.drop(index='A1')\n",
    "dfParams = dfParams.drop(index='A2')\n",
    "dfParams.loc['a'] = [0]\n",
    "dfParams.loc['b'] = [maxEff]\n",
    "dfParams"
   ]
  },
  {
   "cell_type": "code",
   "execution_count": 4,
   "metadata": {},
   "outputs": [
    {
     "name": "stdout",
     "output_type": "stream",
     "text": [
      "[0.7339715  1.13428041 0.15788899 5.71496695 1.99836281 0.12307937]\n",
      "664\n",
      "1.0\n"
     ]
    },
    {
     "name": "stderr",
     "output_type": "stream",
     "text": [
      "C:\\Users\\PERAZA\\AppData\\Local\\Continuum\\anaconda3\\lib\\site-packages\\matplotlib\\axes\\_axes.py:6462: UserWarning: The 'normed' kwarg is deprecated, and has been replaced by the 'density' kwarg.\n",
      "  warnings.warn(\"The 'normed' kwarg is deprecated, and has been \"\n"
     ]
    },
    {
     "data": {
      "text/html": [
       "<div>\n",
       "<style scoped>\n",
       "    .dataframe tbody tr th:only-of-type {\n",
       "        vertical-align: middle;\n",
       "    }\n",
       "\n",
       "    .dataframe tbody tr th {\n",
       "        vertical-align: top;\n",
       "    }\n",
       "\n",
       "    .dataframe thead th {\n",
       "        text-align: right;\n",
       "    }\n",
       "</style>\n",
       "<table border=\"1\" class=\"dataframe\">\n",
       "  <thead>\n",
       "    <tr style=\"text-align: right;\">\n",
       "      <th></th>\n",
       "      <th>params</th>\n",
       "    </tr>\n",
       "  </thead>\n",
       "  <tbody>\n",
       "    <tr>\n",
       "      <th>mu1</th>\n",
       "      <td>0.733971</td>\n",
       "    </tr>\n",
       "    <tr>\n",
       "      <th>sigma1</th>\n",
       "      <td>1.134280</td>\n",
       "    </tr>\n",
       "    <tr>\n",
       "      <th>mu2</th>\n",
       "      <td>5.714967</td>\n",
       "    </tr>\n",
       "    <tr>\n",
       "      <th>sigma2</th>\n",
       "      <td>1.998363</td>\n",
       "    </tr>\n",
       "    <tr>\n",
       "      <th>a</th>\n",
       "      <td>0.000000</td>\n",
       "    </tr>\n",
       "    <tr>\n",
       "      <th>b</th>\n",
       "      <td>9.300000</td>\n",
       "    </tr>\n",
       "  </tbody>\n",
       "</table>\n",
       "</div>"
      ],
      "text/plain": [
       "          params\n",
       "mu1     0.733971\n",
       "sigma1  1.134280\n",
       "mu2     5.714967\n",
       "sigma2  1.998363\n",
       "a       0.000000\n",
       "b       9.300000"
      ]
     },
     "execution_count": 4,
     "metadata": {},
     "output_type": "execute_result"
    },
    {
     "data": {
      "image/png": "[encoded data removed]",
      "text/plain": [
       "<Figure size 432x288 with 1 Axes>"
      ]
     },
     "metadata": {},
     "output_type": "display_data"
    }
   ],
   "source": [
    "data = master[(master['AppMethod'] == 'liquid spray') & (master['Roofing'] == 0)]\n",
    "\n",
    "def truncated_gaussian_lower(x,mu,sigma,A):\n",
    "    return A*np.exp((-(x-mu)**2)/(2*sigma**2))\n",
    "def truncated_gaussian_upper(x,mu,sigma,A):\n",
    "    return A * np.exp((-(x-mu)**2)/(2*sigma**2))\n",
    "def mix_model(x,mu1,sigma1,A1,mu2,sigma2,A2):\n",
    "    return truncated_gaussian_lower(x,mu1,sigma1,A1) + truncated_gaussian_upper(x,mu2,sigma2,A2)\n",
    "\n",
    "kde = stats.gaussian_kde(data.Eff.dropna())\n",
    "\n",
    "maxEff = data.Eff.max()\n",
    "\n",
    "expected = (1, 2, 160, 7, 1, 160)\n",
    "params, cov = optimize.curve_fit(f=mix_model, xdata=data.Eff.dropna(), ydata=kde.pdf(data.Eff.dropna()), p0=expected)\n",
    "print(params)\n",
    "print(len(data))\n",
    "x = np.arange(-5, 15, 0.001)\n",
    "\n",
    "a1 = (0 - params[0]) / params[1]\n",
    "b1 = (maxEff - params[0]) / params[1]\n",
    "\n",
    "a2 = (0 - params[3]) / params[4]\n",
    "b2 = (maxEff - params[3]) / params[4]\n",
    "\n",
    "y4 = stats.truncnorm.pdf(x, a1, b1, loc=params[0], scale=params[1]) + stats.truncnorm.pdf(x, a2, b2, loc=params[3], scale=params[4])\n",
    "y5 = (stats.truncnorm.pdf(x, a1, b1, loc=params[0], scale=params[1]) + stats.truncnorm.pdf(x, a2, b2, loc=params[3], scale=params[4])) / metrics.auc(x, y4)\n",
    "\n",
    "print(metrics.auc(x, y5))\n",
    "\n",
    "fig, ax = plt.subplots()\n",
    "sns.distplot(data.Eff.dropna(), norm_hist=True, kde_kws={\"linestyle\":\"\"})\n",
    "ax.axvline(0, linestyle=\":\", color=\"red\")\n",
    "ax.axvline(maxEff, linestyle=\":\", color=\"red\")\n",
    "plt.plot(x, y5, color='red')\n",
    "\n",
    "plt.ylim(0, 0.3)\n",
    "plt.xlim(-1, 10)\n",
    "ax.set(xlabel='Efficacy (LR)', ylabel='Probability', title='Liquid Spray')\n",
    "\n",
    "dfParams = pd.DataFrame(data={'params':params},index=mix_model.__code__.co_varnames[1:])\n",
    "dfParams = dfParams.drop(index='A1')\n",
    "dfParams = dfParams.drop(index='A2')\n",
    "dfParams.loc['a'] = [0]\n",
    "dfParams.loc['b'] = [maxEff]\n",
    "dfParams"
   ]
  },
  {
   "cell_type": "code",
   "execution_count": 5,
   "metadata": {},
   "outputs": [
    {
     "name": "stdout",
     "output_type": "stream",
     "text": [
      "[1.3055984  2.35170782 0.09127154 6.51822608 1.27035745 0.18613836]\n",
      "1.0000000000000002\n",
      "548\n"
     ]
    },
    {
     "name": "stderr",
     "output_type": "stream",
     "text": [
      "C:\\Users\\PERAZA\\AppData\\Local\\Continuum\\anaconda3\\lib\\site-packages\\matplotlib\\axes\\_axes.py:6462: UserWarning: The 'normed' kwarg is deprecated, and has been replaced by the 'density' kwarg.\n",
      "  warnings.warn(\"The 'normed' kwarg is deprecated, and has been \"\n"
     ]
    },
    {
     "data": {
      "text/html": [
       "<div>\n",
       "<style scoped>\n",
       "    .dataframe tbody tr th:only-of-type {\n",
       "        vertical-align: middle;\n",
       "    }\n",
       "\n",
       "    .dataframe tbody tr th {\n",
       "        vertical-align: top;\n",
       "    }\n",
       "\n",
       "    .dataframe thead th {\n",
       "        text-align: right;\n",
       "    }\n",
       "</style>\n",
       "<table border=\"1\" class=\"dataframe\">\n",
       "  <thead>\n",
       "    <tr style=\"text-align: right;\">\n",
       "      <th></th>\n",
       "      <th>params</th>\n",
       "    </tr>\n",
       "  </thead>\n",
       "  <tbody>\n",
       "    <tr>\n",
       "      <th>mu1</th>\n",
       "      <td>1.305598</td>\n",
       "    </tr>\n",
       "    <tr>\n",
       "      <th>sigma1</th>\n",
       "      <td>2.351708</td>\n",
       "    </tr>\n",
       "    <tr>\n",
       "      <th>mu2</th>\n",
       "      <td>6.518226</td>\n",
       "    </tr>\n",
       "    <tr>\n",
       "      <th>sigma2</th>\n",
       "      <td>1.270357</td>\n",
       "    </tr>\n",
       "    <tr>\n",
       "      <th>a</th>\n",
       "      <td>0.000000</td>\n",
       "    </tr>\n",
       "    <tr>\n",
       "      <th>b</th>\n",
       "      <td>8.100000</td>\n",
       "    </tr>\n",
       "  </tbody>\n",
       "</table>\n",
       "</div>"
      ],
      "text/plain": [
       "          params\n",
       "mu1     1.305598\n",
       "sigma1  2.351708\n",
       "mu2     6.518226\n",
       "sigma2  1.270357\n",
       "a       0.000000\n",
       "b       8.100000"
      ]
     },
     "execution_count": 5,
     "metadata": {},
     "output_type": "execute_result"
    },
    {
     "data": {
      "image/png": "[encoded data removed]",
      "text/plain": [
       "<Figure size 432x288 with 1 Axes>"
      ]
     },
     "metadata": {},
     "output_type": "display_data"
    }
   ],
   "source": [
    "data = master[(master['AppMethod'] == 'liquid immersion') & (master['IndoorCarpet'] == 0) & (master['IndoorCeilings'] == 0) & \n",
    "              (master['IndoorMisc'] == 0) & (master['OutdoorMisc'] == 0) & (master['UndergroundCarpet'] == 0) & \n",
    "              (master['UndergroundCeilings'] == 0)]\n",
    "\n",
    "def truncated_gaussian_lower(x,mu,sigma,A):\n",
    "    return A*np.exp((-(x-mu)**2)/(2*sigma**2))\n",
    "def truncated_gaussian_upper(x,mu,sigma,A):\n",
    "    return A * np.exp((-(x-mu)**2)/(2*sigma**2))\n",
    "def mix_model(x,mu1,sigma1,A1,mu2,sigma2,A2):\n",
    "    return truncated_gaussian_lower(x,mu1,sigma1,A1) + truncated_gaussian_upper(x,mu2,sigma2,A2)\n",
    "\n",
    "kde = stats.gaussian_kde(data.Eff.dropna())\n",
    "\n",
    "maxEff = data.Eff.max()\n",
    "\n",
    "expected = (1, 2, 160, 7, 1, 160)\n",
    "params, cov = optimize.curve_fit(f=mix_model, xdata=data.Eff.dropna(), ydata=kde.pdf(data.Eff.dropna()), p0=expected)\n",
    "print(params)\n",
    "\n",
    "x = np.arange(-5, 15, 0.001)\n",
    "\n",
    "a1 = (0 - params[0]) / params[1]\n",
    "b1 = (maxEff - params[0]) / params[1]\n",
    "\n",
    "a2 = (0 - params[3]) / params[4]\n",
    "b2 = (maxEff - params[3]) / params[4]\n",
    "\n",
    "y4 = stats.truncnorm.pdf(x, a1, b1, loc=params[0], scale=params[1]) + stats.truncnorm.pdf(x, a2, b2, loc=params[3], scale=params[4])\n",
    "y5 = (stats.truncnorm.pdf(x, a1, b1, loc=params[0], scale=params[1]) + stats.truncnorm.pdf(x, a2, b2, loc=params[3], scale=params[4])) / metrics.auc(x, y4)\n",
    "\n",
    "print(metrics.auc(x, y5))\n",
    "print(len(data))\n",
    "fig, ax = plt.subplots()\n",
    "sns.distplot(data.Eff.dropna(), norm_hist=True, kde_kws={\"linestyle\":\"\"})\n",
    "ax.axvline(0, linestyle=\":\", color=\"red\")\n",
    "ax.axvline(maxEff, linestyle=\":\", color=\"red\")\n",
    "plt.plot(x, y5, color='red')\n",
    "\n",
    "plt.ylim(0, 0.25)\n",
    "plt.xlim(-1, 9)\n",
    "ax.set(xlabel='Efficacy (LR)', ylabel='Probability', title='Liquid Immersion')\n",
    "\n",
    "dfParams = pd.DataFrame(data={'params':params},index=mix_model.__code__.co_varnames[1:])\n",
    "dfParams = dfParams.drop(index='A1')\n",
    "dfParams = dfParams.drop(index='A2')\n",
    "dfParams.loc['a'] = [0]\n",
    "dfParams.loc['b'] = [maxEff]\n",
    "dfParams"
   ]
  }
 ],
 "metadata": {
  "kernelspec": {
   "display_name": "Python 3",
   "language": "python",
   "name": "python3"
  },
  "language_info": {
   "codemirror_mode": {
    "name": "ipython",
    "version": 3
   },
   "file_extension": ".py",
   "mimetype": "text/x-python",
   "name": "python",
   "nbconvert_exporter": "python",
   "pygments_lexer": "ipython3",
   "version": "3.6.5"
  }
 },
 "nbformat": 4,
 "nbformat_minor": 2
}
