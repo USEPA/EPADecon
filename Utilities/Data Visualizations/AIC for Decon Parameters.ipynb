{
 "cells": [
  {
   "cell_type": "code",
   "execution_count": 1,
   "metadata": {},
   "outputs": [],
   "source": [
    "import pandas as pd\n",
    "import numpy as np\n",
    "import scipy\n",
    "from sklearn.preprocessing import StandardScaler\n",
    "import scipy.stats as stats\n",
    "import matplotlib.pyplot as plt\n",
    "%matplotlib inline\n",
    "import math\n",
    "import random\n",
    "import seaborn as sns"
   ]
  },
  {
   "cell_type": "code",
   "execution_count": 2,
   "metadata": {},
   "outputs": [],
   "source": [
    "# read in the entire dataset\n",
    "master = pd.read_excel('..\\Data Cleanup\\cleaned_data.xlsx', sheet_name = 'master')"
   ]
  },
  {
   "cell_type": "code",
   "execution_count": 3,
   "metadata": {},
   "outputs": [],
   "source": [
    "dist_names = ['beta',\n",
    "              'gamma',\n",
    "              'lognorm',\n",
    "              'pearson3',\n",
    "              'triang',\n",
    "              'uniform',\n",
    "              'weibull_min', \n",
    "              'weibull_max',\n",
    "              'truncnorm',\n",
    "              'truncexpon']"
   ]
  },
  {
   "cell_type": "code",
   "execution_count": 4,
   "metadata": {},
   "outputs": [],
   "source": [
    "# Data subsets that need to be fit with distributions\n",
    "loading = master[(master['LoadingUn'] == 'CFU/cm^2') & (master['Loading'] < 150000000)]"
   ]
  },
  {
   "cell_type": "code",
   "execution_count": 5,
   "metadata": {},
   "outputs": [],
   "source": [
    "params = [\n",
    "    (loading, \"Loading Distribution\", 'Loading')\n",
    "]"
   ]
  },
  {
   "cell_type": "code",
   "execution_count": 6,
   "metadata": {},
   "outputs": [
    {
     "name": "stderr",
     "output_type": "stream",
     "text": [
      "C:\\Users\\PERAZA\\AppData\\Local\\Continuum\\anaconda3\\lib\\site-packages\\scipy\\stats\\_continuous_distns.py:437: RuntimeWarning: invalid value encountered in sqrt\n",
      "  sk = 2*(b-a)*np.sqrt(a + b + 1) / (a + b + 2) / np.sqrt(a*b)\n",
      "C:\\Users\\PERAZA\\AppData\\Local\\Continuum\\anaconda3\\lib\\site-packages\\scipy\\stats\\_continuous_distns.py:5823: RuntimeWarning: divide by zero encountered in log\n",
      "  self._logdelta = np.log(self._delta)\n",
      "C:\\Users\\PERAZA\\AppData\\Local\\Continuum\\anaconda3\\lib\\site-packages\\scipy\\stats\\_continuous_distns.py:5823: RuntimeWarning: invalid value encountered in log\n",
      "  self._logdelta = np.log(self._delta)\n",
      "C:\\Users\\PERAZA\\AppData\\Local\\Continuum\\anaconda3\\lib\\site-packages\\matplotlib\\axes\\_axes.py:6462: UserWarning: The 'normed' kwarg is deprecated, and has been replaced by the 'density' kwarg.\n",
      "  warnings.warn(\"The 'normed' kwarg is deprecated, and has been \"\n"
     ]
    },
    {
     "name": "stdout",
     "output_type": "stream",
     "text": [
      "      DistName           AIC           LLH\n",
      "0   truncexpon  1.767258e+05 -8.835991e+04\n",
      "1    truncnorm           inf          -inf\n",
      "2  weibull_max  2.206551e+05 -1.103256e+05\n",
      "3  weibull_min  1.629412e+05 -8.146861e+04\n",
      "4      uniform  1.794277e+05 -8.971185e+04\n",
      "5       triang  1.741810e+05 -8.708751e+04\n",
      "6     pearson3  1.636456e+05 -8.181980e+04\n",
      "7      lognorm  1.633658e+05 -8.168090e+04\n",
      "8        gamma           inf          -inf\n",
      "9         beta  1.729640e+05 -8.647998e+04\n",
      "weibull_min\n"
     ]
    },
    {
     "data": {
      "image/png": "[encoded data removed]",
      "text/plain": [
       "<Figure size 432x288 with 1 Axes>"
      ]
     },
     "metadata": {},
     "output_type": "display_data"
    }
   ],
   "source": [
    "def distributionFitting(data, title, parameter):\n",
    "    \n",
    "    # Store efficacy data nicely into y variable\n",
    "    y = data[parameter].dropna().tolist()\n",
    "    x = np.linspace(-1, 9, num=1000)\n",
    "    size = len(y)\n",
    "    \n",
    "    # Create the dataframe that will hold the different distribution names and their corresponding AIC\n",
    "    distFits = pd.DataFrame(columns = ['DistName', 'AIC', 'LLH'])\n",
    "\n",
    "    # Fit each distribution and calculate and store the AIC\n",
    "    for distName in dist_names:\n",
    "        dist = getattr(scipy.stats, distName)\n",
    "\n",
    "        params = dist.fit(y)\n",
    "\n",
    "        LLH = dist.logpdf(y,*params).sum()\n",
    "\n",
    "        if distName == 'truncexpon':\n",
    "            A = -2*LLH + 2*3\n",
    "            AIC = A + ((((2*3)**2) + 2*3)/(len(y) - 3 - 1))\n",
    "        elif distName == 'truncnorm':\n",
    "            A = -2*LLH + 2*4\n",
    "            AIC = A + ((((2*4)**2) + 2*4)/(len(y) - 4 - 1))\n",
    "        elif distName == 'uniform':\n",
    "            A = -2*LLH + 2*2\n",
    "            AIC = A + ((((2*2)**2) + 2*2)/(len(y) - 2 - 1))\n",
    "        elif distName == 'triang':\n",
    "            A = -2*LLH + 2*3\n",
    "            AIC = A + ((((2*3)**2) + 2*3)/(len(y) - 3 - 1))\n",
    "        elif distName == 'pearson3':\n",
    "            A = -2*LLH + 2*3\n",
    "            AIC = A + ((((2*3)**2) + 2*3)/(len(y) - 3 - 1))\n",
    "        elif distName == 'lognorm':\n",
    "            A = -2*LLH + 2*2\n",
    "            AIC = A + ((((2*2)**2) + 2*2)/(len(y) - 2 - 1))\n",
    "        elif distName == 'gamma':\n",
    "            A = -2*LLH + 2*2\n",
    "            AIC = A + ((((2*2)**2) + 2*2)/(len(y) - 2 - 1))\n",
    "        elif distName == 'beta':\n",
    "            A = -2*LLH + 2*2\n",
    "            AIC = A + ((((2*2)**2) + 2*2)/(len(y) - 2 - 1))\n",
    "        else:\n",
    "            A = -2*LLH + 2*2\n",
    "            AIC = A + ((((2*2)**2) + 2*2)/(len(y) - 2 - 1))\n",
    "\n",
    "        rowData = [[distName, AIC, LLH]]\n",
    "        dat = pd.DataFrame(rowData, columns = ['DistName', 'AIC', 'LLH'])\n",
    "\n",
    "        distFits = pd.concat([dat, distFits], ignore_index=True)\n",
    "\n",
    "    # Determine the best fit based on the AICs\n",
    "    bestAIC = distFits.AIC.min()\n",
    "    index = distFits.index.get_loc(distFits.index[distFits['AIC'] == bestAIC][0])\n",
    "    bestDist = distFits.at[index, 'DistName']\n",
    "\n",
    "    print(distFits)\n",
    "\n",
    "    print(bestDist)\n",
    "    \n",
    "    # Plot the distribution\n",
    "    fig, ax = plt.subplots()\n",
    "    \n",
    "    binSize = round(1 + (3.322 * math.log10(len(y))))\n",
    "    sns.distplot(data[parameter].dropna(), norm_hist=True, kde_kws={\"linestyle\":\"\"}, bins=binSize)\n",
    "\n",
    "    dist = getattr(scipy.stats, bestDist)\n",
    "    param = dist.fit(y)\n",
    "\n",
    "    # Get line for each distribution (and scale to match observed data)\n",
    "    pdf_fitted = dist.pdf(x, *param[:-2], loc=param[-2], scale=param[-1])\n",
    "\n",
    "    plt.xlim(data[parameter].min() - 0.5, data[parameter].max() + 0.5)\n",
    "    \n",
    "    # Add the line to the plot\n",
    "    plt.plot(x, pdf_fitted, color='red')\n",
    "    plt.title(title)\n",
    "\n",
    "    ax.axvline(0, linestyle=\":\", color=\"red\")\n",
    "    ax.axvline(data[parameter].max(), linestyle=\":\", color=\"red\")\n",
    "    \n",
    "    plt.show()\n",
    "    \n",
    "for p in params:\n",
    "    distributionFitting(*p)"
   ]
  }
 ],
 "metadata": {
  "kernelspec": {
   "display_name": "Python 3",
   "language": "python",
   "name": "python3"
  },
  "language_info": {
   "codemirror_mode": {
    "name": "ipython",
    "version": 3
   },
   "file_extension": ".py",
   "mimetype": "text/x-python",
   "name": "python",
   "nbconvert_exporter": "python",
   "pygments_lexer": "ipython3",
   "version": "3.6.5"
  }
 },
 "nbformat": 4,
 "nbformat_minor": 2
}
