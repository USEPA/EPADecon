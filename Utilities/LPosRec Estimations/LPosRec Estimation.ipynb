{
 "cells": [
  {
   "cell_type": "code",
   "execution_count": 1,
   "metadata": {},
   "outputs": [
    {
     "data": {
      "text/html": [
       "<div>\n",
       "<style scoped>\n",
       "    .dataframe tbody tr th:only-of-type {\n",
       "        vertical-align: middle;\n",
       "    }\n",
       "\n",
       "    .dataframe tbody tr th {\n",
       "        vertical-align: top;\n",
       "    }\n",
       "\n",
       "    .dataframe thead th {\n",
       "        text-align: right;\n",
       "    }\n",
       "</style>\n",
       "<table border=\"1\" class=\"dataframe\">\n",
       "  <thead>\n",
       "    <tr style=\"text-align: right;\">\n",
       "      <th></th>\n",
       "      <th>EntryDate</th>\n",
       "      <th>ENRec</th>\n",
       "      <th>Ref</th>\n",
       "      <th>PhysState</th>\n",
       "      <th>GrimeDirt</th>\n",
       "      <th>AppMeth</th>\n",
       "      <th>Loading</th>\n",
       "      <th>ContTimeDesc</th>\n",
       "      <th>LoadingUn</th>\n",
       "      <th>CoupArea</th>\n",
       "      <th>...</th>\n",
       "      <th>TotalApp</th>\n",
       "      <th>RHNumCheck</th>\n",
       "      <th>RHNum</th>\n",
       "      <th>DeconMethod</th>\n",
       "      <th>VolAppDen(L/m^2)</th>\n",
       "      <th>ClO2(ppm)</th>\n",
       "      <th>MB(mg/L)</th>\n",
       "      <th>H2O2(ppm)</th>\n",
       "      <th>PosCalc</th>\n",
       "      <th>LPosRecCalc</th>\n",
       "    </tr>\n",
       "  </thead>\n",
       "  <tbody>\n",
       "    <tr>\n",
       "      <th>0</th>\n",
       "      <td>2017-11-07 00:00:00</td>\n",
       "      <td>10</td>\n",
       "      <td>Brantner, 2014, Inactivation and ultrastructur...</td>\n",
       "      <td>liquid</td>\n",
       "      <td>NaN</td>\n",
       "      <td>suspension</td>\n",
       "      <td>8000000000</td>\n",
       "      <td>steady state conditions</td>\n",
       "      <td>CFU/mL</td>\n",
       "      <td>NaN</td>\n",
       "      <td>...</td>\n",
       "      <td>NaN</td>\n",
       "      <td>False</td>\n",
       "      <td>unlisted</td>\n",
       "      <td>unlisted</td>\n",
       "      <td>NaN</td>\n",
       "      <td>NaN</td>\n",
       "      <td>NaN</td>\n",
       "      <td>NaN</td>\n",
       "      <td>NaN</td>\n",
       "      <td>NaN</td>\n",
       "    </tr>\n",
       "    <tr>\n",
       "      <th>1</th>\n",
       "      <td>2017-11-07 00:00:00</td>\n",
       "      <td>10</td>\n",
       "      <td>Brantner, 2014, Inactivation and ultrastructur...</td>\n",
       "      <td>liquid</td>\n",
       "      <td>NaN</td>\n",
       "      <td>suspension</td>\n",
       "      <td>8000000000</td>\n",
       "      <td>steady state conditions</td>\n",
       "      <td>CFU/mL</td>\n",
       "      <td>NaN</td>\n",
       "      <td>...</td>\n",
       "      <td>NaN</td>\n",
       "      <td>False</td>\n",
       "      <td>unlisted</td>\n",
       "      <td>unlisted</td>\n",
       "      <td>NaN</td>\n",
       "      <td>NaN</td>\n",
       "      <td>NaN</td>\n",
       "      <td>NaN</td>\n",
       "      <td>3.0</td>\n",
       "      <td>NaN</td>\n",
       "    </tr>\n",
       "    <tr>\n",
       "      <th>2</th>\n",
       "      <td>2017-11-07 00:00:00</td>\n",
       "      <td>10</td>\n",
       "      <td>Brantner, 2014, Inactivation and ultrastructur...</td>\n",
       "      <td>liquid</td>\n",
       "      <td>NaN</td>\n",
       "      <td>suspension</td>\n",
       "      <td>8000000000</td>\n",
       "      <td>steady state conditions</td>\n",
       "      <td>CFU/mL</td>\n",
       "      <td>NaN</td>\n",
       "      <td>...</td>\n",
       "      <td>NaN</td>\n",
       "      <td>False</td>\n",
       "      <td>unlisted</td>\n",
       "      <td>unlisted</td>\n",
       "      <td>NaN</td>\n",
       "      <td>NaN</td>\n",
       "      <td>NaN</td>\n",
       "      <td>NaN</td>\n",
       "      <td>0.0</td>\n",
       "      <td>NaN</td>\n",
       "    </tr>\n",
       "    <tr>\n",
       "      <th>3</th>\n",
       "      <td>2017-11-07 00:00:00</td>\n",
       "      <td>10</td>\n",
       "      <td>Brantner, 2014, Inactivation and ultrastructur...</td>\n",
       "      <td>liquid</td>\n",
       "      <td>NaN</td>\n",
       "      <td>suspension</td>\n",
       "      <td>8000000000</td>\n",
       "      <td>steady state conditions</td>\n",
       "      <td>CFU/mL</td>\n",
       "      <td>NaN</td>\n",
       "      <td>...</td>\n",
       "      <td>NaN</td>\n",
       "      <td>False</td>\n",
       "      <td>unlisted</td>\n",
       "      <td>unlisted</td>\n",
       "      <td>NaN</td>\n",
       "      <td>NaN</td>\n",
       "      <td>NaN</td>\n",
       "      <td>NaN</td>\n",
       "      <td>0.0</td>\n",
       "      <td>NaN</td>\n",
       "    </tr>\n",
       "    <tr>\n",
       "      <th>4</th>\n",
       "      <td>2017-11-07 00:00:00</td>\n",
       "      <td>10</td>\n",
       "      <td>Brantner, 2014, Inactivation and ultrastructur...</td>\n",
       "      <td>liquid</td>\n",
       "      <td>NaN</td>\n",
       "      <td>suspension</td>\n",
       "      <td>8000000000</td>\n",
       "      <td>steady state conditions</td>\n",
       "      <td>CFU/mL</td>\n",
       "      <td>NaN</td>\n",
       "      <td>...</td>\n",
       "      <td>NaN</td>\n",
       "      <td>False</td>\n",
       "      <td>unlisted</td>\n",
       "      <td>unlisted</td>\n",
       "      <td>NaN</td>\n",
       "      <td>NaN</td>\n",
       "      <td>NaN</td>\n",
       "      <td>NaN</td>\n",
       "      <td>0.0</td>\n",
       "      <td>NaN</td>\n",
       "    </tr>\n",
       "  </tbody>\n",
       "</table>\n",
       "<p>5 rows × 71 columns</p>\n",
       "</div>"
      ],
      "text/plain": [
       "             EntryDate  ENRec  \\\n",
       "0  2017-11-07 00:00:00     10   \n",
       "1  2017-11-07 00:00:00     10   \n",
       "2  2017-11-07 00:00:00     10   \n",
       "3  2017-11-07 00:00:00     10   \n",
       "4  2017-11-07 00:00:00     10   \n",
       "\n",
       "                                                 Ref PhysState GrimeDirt  \\\n",
       "0  Brantner, 2014, Inactivation and ultrastructur...    liquid       NaN   \n",
       "1  Brantner, 2014, Inactivation and ultrastructur...    liquid       NaN   \n",
       "2  Brantner, 2014, Inactivation and ultrastructur...    liquid       NaN   \n",
       "3  Brantner, 2014, Inactivation and ultrastructur...    liquid       NaN   \n",
       "4  Brantner, 2014, Inactivation and ultrastructur...    liquid       NaN   \n",
       "\n",
       "      AppMeth     Loading             ContTimeDesc LoadingUn CoupArea  \\\n",
       "0  suspension  8000000000  steady state conditions    CFU/mL      NaN   \n",
       "1  suspension  8000000000  steady state conditions    CFU/mL      NaN   \n",
       "2  suspension  8000000000  steady state conditions    CFU/mL      NaN   \n",
       "3  suspension  8000000000  steady state conditions    CFU/mL      NaN   \n",
       "4  suspension  8000000000  steady state conditions    CFU/mL      NaN   \n",
       "\n",
       "      ...     TotalApp RHNumCheck     RHNum DeconMethod VolAppDen(L/m^2)  \\\n",
       "0     ...          NaN      False  unlisted    unlisted              NaN   \n",
       "1     ...          NaN      False  unlisted    unlisted              NaN   \n",
       "2     ...          NaN      False  unlisted    unlisted              NaN   \n",
       "3     ...          NaN      False  unlisted    unlisted              NaN   \n",
       "4     ...          NaN      False  unlisted    unlisted              NaN   \n",
       "\n",
       "  ClO2(ppm) MB(mg/L) H2O2(ppm) PosCalc LPosRecCalc  \n",
       "0       NaN      NaN       NaN     NaN         NaN  \n",
       "1       NaN      NaN       NaN     3.0         NaN  \n",
       "2       NaN      NaN       NaN     0.0         NaN  \n",
       "3       NaN      NaN       NaN     0.0         NaN  \n",
       "4       NaN      NaN       NaN     0.0         NaN  \n",
       "\n",
       "[5 rows x 71 columns]"
      ]
     },
     "execution_count": 1,
     "metadata": {},
     "output_type": "execute_result"
    }
   ],
   "source": [
    "import pandas as pd\n",
    "import numpy as np\n",
    "import matplotlib.pyplot as plt\n",
    "\n",
    "df = pd.read_excel('BioDeconProcessed_Original.xlsx', sheet_name = 'ProcessedData')\n",
    "\n",
    "df.head()"
   ]
  },
  {
   "cell_type": "code",
   "execution_count": 3,
   "metadata": {},
   "outputs": [
    {
     "data": {
      "text/plain": [
       "array(['NR', nan, 7.10160427807486, 7.14772727272727, 5.66, 6.34, 7.1,\n",
       "       6.9, 7.2, 7.3, 7.4, 4.66181268553726, 5.11394335230683,\n",
       "       9.97312785359969, 9.4232458739368, 7, 7.7, 7.8, 6.1, 6.4, 6.3, 6.7,\n",
       "       6.6, 6, 6.5, 6.2, 6.8, 6.55913959332062, 6.26566927449967,\n",
       "       6.98011363636362, 6.90056818181817, 6.74233128834355,\n",
       "       6.50613496932515, 6.67536231884056, 6.47246376811594,\n",
       "       6.77606164324658, 6.30476771985344, 6.85545722713863, 6.14, 6.16,\n",
       "       5.65, 6.07, 5.97, 5.42, 6.09, 5.44, 5.99, 6.05, 6.12, 5.81, 6.04,\n",
       "       5.74, 6.08, 5.86, 5.88, 5.68, 5.6, 5.3, 5.9, 5.58, 5.92, 6.24,\n",
       "       5.76, 'Not reported', 7.52267264621071, 7.40280178636377,\n",
       "       7.43843906902097, 7.49030886394912, 7.19215034853591,\n",
       "       7.52238805970149, 7.4456289978678, 7.42643923240938,\n",
       "       7.21535181236673, 7.52830188679245, 7.41509433962264,\n",
       "       7.49056603773585, 7.22641509433961, 7.57023841022713,\n",
       "       7.42049743068417, 7.43594465874751, 7.4846676600426,\n",
       "       7.18540503279533, '0.5 LR', 5.31, 4.5, 5.5, 3.75, 5.25, 4, 4.25,\n",
       "       7.77, 'not reported', 7.23, 6.27, 6.89, 6.57, 6.35, 5.64, 4.78,\n",
       "       4.62, 2.44, 2.12, 5.98, 5.37, 5.71, 5.45, 6.29, 5.75, 6.49, 6.62,\n",
       "       6.46, 6.55, 6.38, 6.65, 6.79, 6.25, 6.22, 6.455, 6.73499999999999,\n",
       "       5.83, 5.7, 5.51, 6.59, 6.11, 5.95, 5.73, 5.93, 5.78, 5.69, 5.56,\n",
       "       5.54, 6.48, 6.56, 6.26, 6.7481880270062, 6.4232458739368,\n",
       "       6.90794852161227, 7.79028516403324, 6.76937732607613,\n",
       "       7.75891189239797, 7.06818586174616, 7.07554696139253,\n",
       "       6.86332286012045, 7.17318626841227, 7.68574173860226,\n",
       "       6.50650503240487, 7.55630250076728, 7.15836249209524,\n",
       "       6.54530711646582, 7.23804610312879, 7.69460519893356,\n",
       "       7.0293837776852, 7.78103693862113, 7.3384564936046,\n",
       "       6.93298082192319, 7.01283722470517, 7.56229286445647,\n",
       "       6.60852603357719, 7.65030752313193, 7.20411998265592,\n",
       "       6.5854607295085, 6.99651167215417, 7.59659709562646,\n",
       "       6.4297522800024, 7.56702636615906, 7.24303804868629,\n",
       "       8.40140054078154, 5.31175386105575, 6.28555730900777,\n",
       "       4.67117284271508, 5.73878055848436, 5.41995574848975,\n",
       "       5.15228834438305, 5.41329976408125, 6.49276038902683,\n",
       "       5.88479536394898, 6.39445168082621, 0.413299764081251,\n",
       "       5.34044411484011, 6.90471554527868, 5.03342375548694,\n",
       "       6.59439255037542, 6.89209460269048, 5.89652621748955,\n",
       "       6.47275644931721, 7.22530928172586, 6.41329976408125,\n",
       "       7.130333768495, 1.37106786227173, 4.79098847508881,\n",
       "       6.42488163663106, 5.55022835305509, 6.23804610312879,\n",
       "       4.95424250943932, 4.97589113640179, 5.40483371661993,\n",
       "       6.02118929906993, 4.88081359228079, 4.29446622616159,\n",
       "       -0.614393726401687, 3.76042248342321, 5.18469143081759,\n",
       "       4.11058971029924, 5.67486114073781, 5.40993312333129,\n",
       "       3.93500315145365, 4.56820172406699, 5.62940959910271,\n",
       "       5.1271047983648, 5.53019969820308, 0.586587304671754,\n",
       "       6.1271047983648, 7.59879050676311, 6.59106460702649,\n",
       "       6.64246452024212, 6.26951294421791, 7.98587535730839,\n",
       "       7.11058971029924, 7.60097289568674, 1.29666519026153,\n",
       "       5.12057393120584, 6.46239799789895, 4.70926996097583,\n",
       "       6.26717172840301, 6.130333768495, 5.60205999132796,\n",
       "       5.64542226934909, 6.65896484266443, 5.91645394854992,\n",
       "       6.41830129131974, 0.222716471147583, 5.98677173426624,\n",
       "       6.14612803567823, 6.3802112417116, 6.91222205653241,\n",
       "       6.50379068305718, 5.33445375115093, 6.79448804665916,\n",
       "       7.47421626407625, 7.10380372095595, 7.67942789661211,\n",
       "       1.77887447200273, 6.76492298464988, 6.58658730467175,\n",
       "       6.06069784035361, 6.82020145948564, 6.42160392686983,\n",
       "       5.51851393987788, 7.43775056282038, 6.19312459835446,\n",
       "       7.26007138798507, 1.16435285578443, 6.49554433754644,\n",
       "       7.35793484700045, 6.97863694838447, 7.22788670461367,\n",
       "       6.61172330800734, 7.50105926221775, 7.64345267648618,\n",
       "       7.21218760440395, 7.50785587169583, 1.57863920996807,\n",
       "       6.55630250076728, 6.45939248775923, 6.34830486304816,\n",
       "       6.3384564936046, 6.87157293554587, 6.41995574848975,\n",
       "       1.34044411484011, 6.63346845557958, 6.5888317255942,\n",
       "       6.63042787502502, 7.3324384599156, 6.98000337158374,\n",
       "       6.29666519026153, 7.92272545799326, 6.97497199429806,\n",
       "       7.68394713075151, 1.55022835305509, 6.59879050676311,\n",
       "       6.90200289135072, 6.55022835305509, 6.73078227566638,\n",
       "       5.99343623049761, 7.09342168516223, 8.04139268515822,\n",
       "       7.16731733474817, 6.24054924828259, 1.4329692908744,\n",
       "       5.89597473235906, 6.31386722036915, 5.23804610312879,\n",
       "       5.80208925788173, 5.77378644498119, 5.29225607135647,\n",
       "       6.66464197555612, 5.84385542262316, 6.36548798489089,\n",
       "       0.583198773968622, 7.236, 5.208, 8.518, 8.907, 7.78, 6.81,\n",
       "       6.30102999566398, 6.11394335230683, 6.36172783601759,\n",
       "       6.07918124604762, 5.18712853649436, 4.12497982368521,\n",
       "       3.20073112435798, 1.32438965270912, 4.54860355324004,\n",
       "       3.64964319214023, 2.86296314066863, 1.16563523274589, 0.35, 2.85,\n",
       "       4.15], dtype=object)"
      ]
     },
     "execution_count": 3,
     "metadata": {},
     "output_type": "execute_result"
    }
   ],
   "source": [
    "df.LPosRec.unique()"
   ]
  },
  {
   "cell_type": "code",
   "execution_count": 4,
   "metadata": {},
   "outputs": [],
   "source": [
    "LPosRecStrings = ['0.5 LR', 'NR', 'Not reported', 'not reported']\n",
    "\n",
    "for i in LPosRecStrings:\n",
    "    df.loc[df.LPosRec == i] = -1\n",
    "\n",
    "df['LPosRec'] = df.LPosRec.astype(float)"
   ]
  },
  {
   "cell_type": "code",
   "execution_count": 5,
   "metadata": {},
   "outputs": [],
   "source": [
    "loadingStrings = ['unlisted', 'undefined']\n",
    "\n",
    "for i in loadingStrings:\n",
    "    df.loc[df.LoadingNum == i] = -1\n",
    "    \n",
    "df['LoadingNum'] = df.LoadingNum.astype(float)"
   ]
  },
  {
   "cell_type": "code",
   "execution_count": 6,
   "metadata": {},
   "outputs": [],
   "source": [
    "lprEst = pd.DataFrame()\n",
    "\n",
    "lprEst['Loading'] = df.LoadingNum\n",
    "lprEst['LoadingUn'] = df.LoadingUn\n",
    "lprEst['LPosRec'] = df.LPosRec"
   ]
  },
  {
   "cell_type": "code",
   "execution_count": 7,
   "metadata": {},
   "outputs": [],
   "source": [
    "lprEst['ConLoading'] = lprEst.Loading"
   ]
  },
  {
   "cell_type": "code",
   "execution_count": 8,
   "metadata": {},
   "outputs": [],
   "source": [
    "lprEst.loc[(lprEst.LoadingUn == 'log(CFU)'),'ConLoading'] = 10 ** lprEst.Loading"
   ]
  },
  {
   "cell_type": "code",
   "execution_count": 9,
   "metadata": {},
   "outputs": [],
   "source": [
    "lprEst.drop(lprEst[lprEst.Loading == -1].index, inplace=True)\n",
    "lprEst.drop(lprEst[lprEst.LPosRec.isnull()].index, inplace=True)\n",
    "lprEst.drop(lprEst[lprEst.LPosRec == -1].index, inplace=True)"
   ]
  },
  {
   "cell_type": "code",
   "execution_count": 10,
   "metadata": {},
   "outputs": [
    {
     "name": "stdout",
     "output_type": "stream",
     "text": [
      "(1312, 6)\n"
     ]
    }
   ],
   "source": [
    "lprEst['PosRec'] = 10 ** lprEst.LPosRec\n",
    "\n",
    "lprEst['RelativeChange'] = ((lprEst.PosRec - lprEst.ConLoading) / lprEst.ConLoading) * 100\n",
    "\n",
    "lprEst.head()\n",
    "\n",
    "print(lprEst.shape)"
   ]
  },
  {
   "cell_type": "code",
   "execution_count": 11,
   "metadata": {},
   "outputs": [
    {
     "name": "stdout",
     "output_type": "stream",
     "text": [
      "Loading           1.315008e+07\n",
      "LPosRec           6.775531e+00\n",
      "ConLoading        1.315427e+07\n",
      "PosRec            1.982501e+07\n",
      "RelativeChange    7.469110e+02\n",
      "dtype: float64\n",
      "Loading           3.166996e+07\n",
      "LPosRec           7.966481e-01\n",
      "ConLoading        3.166823e+07\n",
      "PosRec            6.860512e+07\n",
      "RelativeChange    6.763644e+03\n",
      "dtype: float64\n"
     ]
    }
   ],
   "source": [
    "print(lprEst.mean(axis=0))\n",
    "print(lprEst.std(axis=0))"
   ]
  },
  {
   "cell_type": "code",
   "execution_count": null,
   "metadata": {},
   "outputs": [],
   "source": [
    "thing = lprEst.query('RelativeChange <= 4000')\n",
    "\n",
    "thing.shape"
   ]
  },
  {
   "cell_type": "code",
   "execution_count": null,
   "metadata": {},
   "outputs": [],
   "source": [
    "plt.hist(x = thing.RelativeChange, bins=60, color='blue')\n",
    "\n",
    "# plt.grid(axis='y', alpha=0.55)"
   ]
  },
  {
   "cell_type": "code",
   "execution_count": 12,
   "metadata": {},
   "outputs": [
    {
     "data": {
      "text/plain": [
       "<matplotlib.collections.PathCollection at 0x23d64aed320>"
      ]
     },
     "execution_count": 12,
     "metadata": {},
     "output_type": "execute_result"
    },
    {
     "data": {
      "image/png": "[encoded data removed]",
      "text/plain": [
       "<Figure size 432x288 with 1 Axes>"
      ]
     },
     "metadata": {},
     "output_type": "display_data"
    }
   ],
   "source": [
    "plt.scatter(lprEst.ConLoading, lprEst.PosRec)"
   ]
  }
 ],
 "metadata": {
  "kernelspec": {
   "display_name": "Python 3",
   "language": "python",
   "name": "python3"
  },
  "language_info": {
   "codemirror_mode": {
    "name": "ipython",
    "version": 3
   },
   "file_extension": ".py",
   "mimetype": "text/x-python",
   "name": "python",
   "nbconvert_exporter": "python",
   "pygments_lexer": "ipython3",
   "version": "3.6.5"
  }
 },
 "nbformat": 4,
 "nbformat_minor": 2
}
