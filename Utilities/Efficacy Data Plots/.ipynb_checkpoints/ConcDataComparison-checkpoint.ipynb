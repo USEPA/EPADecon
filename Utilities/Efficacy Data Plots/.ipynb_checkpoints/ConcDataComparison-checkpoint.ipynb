{
 "cells": [
  {
   "cell_type": "code",
   "execution_count": 1,
   "metadata": {},
   "outputs": [
    {
     "data": {
      "text/html": [
       "<div>\n",
       "<style scoped>\n",
       "    .dataframe tbody tr th:only-of-type {\n",
       "        vertical-align: middle;\n",
       "    }\n",
       "\n",
       "    .dataframe tbody tr th {\n",
       "        vertical-align: top;\n",
       "    }\n",
       "\n",
       "    .dataframe thead th {\n",
       "        text-align: right;\n",
       "    }\n",
       "</style>\n",
       "<table border=\"1\" class=\"dataframe\">\n",
       "  <thead>\n",
       "    <tr style=\"text-align: right;\">\n",
       "      <th></th>\n",
       "      <th>Names</th>\n",
       "      <th>Minimum</th>\n",
       "      <th>Maximum</th>\n",
       "      <th>Mean/Mode</th>\n",
       "      <th>Standard Deviation</th>\n",
       "    </tr>\n",
       "  </thead>\n",
       "  <tbody>\n",
       "    <tr>\n",
       "      <th>0</th>\n",
       "      <td>aerosol</td>\n",
       "      <td>1.000</td>\n",
       "      <td>1.000</td>\n",
       "      <td>1.000000</td>\n",
       "      <td>0.000000e+00</td>\n",
       "    </tr>\n",
       "    <tr>\n",
       "      <th>1</th>\n",
       "      <td>aqueous suspension</td>\n",
       "      <td>0.100</td>\n",
       "      <td>10.000</td>\n",
       "      <td>1.154717</td>\n",
       "      <td>2.887810e+00</td>\n",
       "    </tr>\n",
       "    <tr>\n",
       "      <th>2</th>\n",
       "      <td>foam ambiguous</td>\n",
       "      <td>2.000</td>\n",
       "      <td>2.000</td>\n",
       "      <td>2.000000</td>\n",
       "      <td>0.000000e+00</td>\n",
       "    </tr>\n",
       "    <tr>\n",
       "      <th>3</th>\n",
       "      <td>liquid soaked gauze covering</td>\n",
       "      <td>0.300</td>\n",
       "      <td>5.000</td>\n",
       "      <td>1.157447</td>\n",
       "      <td>1.427638e+00</td>\n",
       "    </tr>\n",
       "    <tr>\n",
       "      <th>4</th>\n",
       "      <td>liquid soaked gauze wipe</td>\n",
       "      <td>0.100</td>\n",
       "      <td>10.000</td>\n",
       "      <td>0.573276</td>\n",
       "      <td>1.555152e+00</td>\n",
       "    </tr>\n",
       "    <tr>\n",
       "      <th>5</th>\n",
       "      <td>immersion</td>\n",
       "      <td>0.056</td>\n",
       "      <td>0.056</td>\n",
       "      <td>0.056000</td>\n",
       "      <td>1.449490e-17</td>\n",
       "    </tr>\n",
       "    <tr>\n",
       "      <th>6</th>\n",
       "      <td>suspension</td>\n",
       "      <td>4.000</td>\n",
       "      <td>4.000</td>\n",
       "      <td>4.000000</td>\n",
       "      <td>0.000000e+00</td>\n",
       "    </tr>\n",
       "  </tbody>\n",
       "</table>\n",
       "</div>"
      ],
      "text/plain": [
       "                          Names  Minimum  Maximum  Mean/Mode  \\\n",
       "0                       aerosol    1.000    1.000   1.000000   \n",
       "1            aqueous suspension    0.100   10.000   1.154717   \n",
       "2                foam ambiguous    2.000    2.000   2.000000   \n",
       "3  liquid soaked gauze covering    0.300    5.000   1.157447   \n",
       "4      liquid soaked gauze wipe    0.100   10.000   0.573276   \n",
       "5                     immersion    0.056    0.056   0.056000   \n",
       "6                    suspension    4.000    4.000   4.000000   \n",
       "\n",
       "   Standard Deviation  \n",
       "0        0.000000e+00  \n",
       "1        2.887810e+00  \n",
       "2        0.000000e+00  \n",
       "3        1.427638e+00  \n",
       "4        1.555152e+00  \n",
       "5        1.449490e-17  \n",
       "6        0.000000e+00  "
      ]
     },
     "execution_count": 1,
     "metadata": {},
     "output_type": "execute_result"
    }
   ],
   "source": [
    "import numpy as np\n",
    "import matplotlib.pyplot as plt\n",
    "import pandas as pd\n",
    "\n",
    "data = pd.read_csv('ConcentrationData.csv')\n",
    "data"
   ]
  },
  {
   "cell_type": "code",
   "execution_count": 3,
   "metadata": {},
   "outputs": [
    {
     "data": {
      "image/png": "[encoded data removed]",
      "text/plain": [
       "<Figure size 576x360 with 1 Axes>"
      ]
     },
     "metadata": {},
     "output_type": "display_data"
    }
   ],
   "source": [
    "fig, ax = plt.subplots(figsize = (8, 5))\n",
    "x = np.arange(data.shape[0])\n",
    "ax.set_xticks(x)\n",
    "ax.set_xticklabels(data['Names'], rotation = 45)\n",
    "for tick in ax.xaxis.get_major_ticks():\n",
    "    tick.label.set_horizontalalignment('right')\n",
    "\n",
    "ax.set_ylim(-2, 11)\n",
    "\n",
    "for column in data.columns[1:-2]:\n",
    "    ax.scatter(x, data[column])\n",
    "\n",
    "ax.errorbar(x, data['Mean/Mode'], yerr = data['Standard Deviation'], \n",
    "            fmt = 's', color = 'black', zorder = 0, alpha = 0.2, lw = 10, capsize = 10, capthick = 2)\n",
    "\n",
    "ax.legend(data.columns[1:-2])\n",
    "plt.savefig('concentration.svg',bbox_inches=\"tight\")"
   ]
  }
 ],
 "metadata": {
  "kernelspec": {
   "display_name": "Python 3",
   "language": "python",
   "name": "python3"
  },
  "language_info": {
   "codemirror_mode": {
    "name": "ipython",
    "version": 3
   },
   "file_extension": ".py",
   "mimetype": "text/x-python",
   "name": "python",
   "nbconvert_exporter": "python",
   "pygments_lexer": "ipython3",
   "version": "3.7.4"
  }
 },
 "nbformat": 4,
 "nbformat_minor": 2
}
