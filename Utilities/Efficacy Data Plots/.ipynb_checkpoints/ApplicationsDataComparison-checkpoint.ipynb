{
 "cells": [
  {
   "cell_type": "code",
   "execution_count": 1,
   "metadata": {},
   "outputs": [
    {
     "data": {
      "text/html": [
       "<div>\n",
       "<style scoped>\n",
       "    .dataframe tbody tr th:only-of-type {\n",
       "        vertical-align: middle;\n",
       "    }\n",
       "\n",
       "    .dataframe tbody tr th {\n",
       "        vertical-align: top;\n",
       "    }\n",
       "\n",
       "    .dataframe thead th {\n",
       "        text-align: right;\n",
       "    }\n",
       "</style>\n",
       "<table border=\"1\" class=\"dataframe\">\n",
       "  <thead>\n",
       "    <tr style=\"text-align: right;\">\n",
       "      <th></th>\n",
       "      <th>Names</th>\n",
       "      <th>Minimum</th>\n",
       "      <th>Maximum</th>\n",
       "      <th>Mean/Mode</th>\n",
       "      <th>Standard Deviation</th>\n",
       "    </tr>\n",
       "  </thead>\n",
       "  <tbody>\n",
       "    <tr>\n",
       "      <th>0</th>\n",
       "      <td>fumigation</td>\n",
       "      <td>1</td>\n",
       "      <td>12</td>\n",
       "      <td>1.715210</td>\n",
       "      <td>2.397874</td>\n",
       "    </tr>\n",
       "    <tr>\n",
       "      <th>1</th>\n",
       "      <td>liquid soaked gauze wipe</td>\n",
       "      <td>1</td>\n",
       "      <td>8</td>\n",
       "      <td>3.600000</td>\n",
       "      <td>2.283373</td>\n",
       "    </tr>\n",
       "    <tr>\n",
       "      <th>2</th>\n",
       "      <td>liquid spray</td>\n",
       "      <td>1</td>\n",
       "      <td>12</td>\n",
       "      <td>1.725490</td>\n",
       "      <td>1.561650</td>\n",
       "    </tr>\n",
       "    <tr>\n",
       "      <th>3</th>\n",
       "      <td>liquid suspension</td>\n",
       "      <td>1</td>\n",
       "      <td>6</td>\n",
       "      <td>2.789731</td>\n",
       "      <td>1.254323</td>\n",
       "    </tr>\n",
       "    <tr>\n",
       "      <th>4</th>\n",
       "      <td>physical</td>\n",
       "      <td>1</td>\n",
       "      <td>6</td>\n",
       "      <td>2.403141</td>\n",
       "      <td>1.782898</td>\n",
       "    </tr>\n",
       "  </tbody>\n",
       "</table>\n",
       "</div>"
      ],
      "text/plain": [
       "                      Names  Minimum  Maximum  Mean/Mode  Standard Deviation\n",
       "0                fumigation        1       12   1.715210            2.397874\n",
       "1  liquid soaked gauze wipe        1        8   3.600000            2.283373\n",
       "2              liquid spray        1       12   1.725490            1.561650\n",
       "3         liquid suspension        1        6   2.789731            1.254323\n",
       "4                  physical        1        6   2.403141            1.782898"
      ]
     },
     "execution_count": 1,
     "metadata": {},
     "output_type": "execute_result"
    }
   ],
   "source": [
    "import numpy as np\n",
    "import matplotlib.pyplot as plt\n",
    "import pandas as pd\n",
    "\n",
    "data = pd.read_csv('NumofApplicationsData.csv')\n",
    "data"
   ]
  },
  {
   "cell_type": "code",
   "execution_count": 8,
   "metadata": {},
   "outputs": [
    {
     "data": {
      "image/png": "[encoded data removed]",
      "text/plain": [
       "<Figure size 576x360 with 1 Axes>"
      ]
     },
     "metadata": {},
     "output_type": "display_data"
    }
   ],
   "source": [
    "fig, ax = plt.subplots(figsize = (8, 5))\n",
    "x = np.arange(data.shape[0])\n",
    "ax.set_xticks(x)\n",
    "ax.set_xticklabels(data['Names'], rotation = 45)\n",
    "for tick in ax.xaxis.get_major_ticks():\n",
    "    tick.label.set_horizontalalignment('right')\n",
    "\n",
    "ax.set_ylim(-2, 15)\n",
    "\n",
    "for column in data.columns[1:-2]:\n",
    "    ax.scatter(x, data[column])\n",
    "\n",
    "ax.errorbar(x, data['Mean/Mode'], yerr = data['Standard Deviation'], \n",
    "            fmt = 's', color = 'black', zorder = 0, alpha = 0.2, lw = 10, capsize = 10, capthick = 2)\n",
    "\n",
    "ax.legend(data.columns[1:-2])\n",
    "plt.savefig('applications.svg',bbox_inches=\"tight\")"
   ]
  }
 ],
 "metadata": {
  "kernelspec": {
   "display_name": "Python 3",
   "language": "python",
   "name": "python3"
  },
  "language_info": {
   "codemirror_mode": {
    "name": "ipython",
    "version": 3
   },
   "file_extension": ".py",
   "mimetype": "text/x-python",
   "name": "python",
   "nbconvert_exporter": "python",
   "pygments_lexer": "ipython3",
   "version": "3.7.4"
  }
 },
 "nbformat": 4,
 "nbformat_minor": 2
}
