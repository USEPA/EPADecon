{
 "cells": [
  {
   "cell_type": "code",
   "execution_count": 17,
   "metadata": {},
   "outputs": [
    {
     "data": {
      "text/html": [
       "<div>\n",
       "<style scoped>\n",
       "    .dataframe tbody tr th:only-of-type {\n",
       "        vertical-align: middle;\n",
       "    }\n",
       "\n",
       "    .dataframe tbody tr th {\n",
       "        vertical-align: top;\n",
       "    }\n",
       "\n",
       "    .dataframe thead th {\n",
       "        text-align: right;\n",
       "    }\n",
       "</style>\n",
       "<table border=\"1\" class=\"dataframe\">\n",
       "  <thead>\n",
       "    <tr style=\"text-align: right;\">\n",
       "      <th></th>\n",
       "      <th>Names</th>\n",
       "      <th>Minimum</th>\n",
       "      <th>Maximum</th>\n",
       "      <th>Mean/Mode</th>\n",
       "      <th>Standard Deviation</th>\n",
       "    </tr>\n",
       "  </thead>\n",
       "  <tbody>\n",
       "    <tr>\n",
       "      <th>0</th>\n",
       "      <td>aqueous suspension</td>\n",
       "      <td>1.000000e-06</td>\n",
       "      <td>0.000001</td>\n",
       "      <td>0.000001</td>\n",
       "      <td>1.070000e-21</td>\n",
       "    </tr>\n",
       "    <tr>\n",
       "      <th>1</th>\n",
       "      <td>fumigation</td>\n",
       "      <td>1.140000e-05</td>\n",
       "      <td>0.000250</td>\n",
       "      <td>0.000178</td>\n",
       "      <td>1.107330e-04</td>\n",
       "    </tr>\n",
       "    <tr>\n",
       "      <th>2</th>\n",
       "      <td>liquid suspension</td>\n",
       "      <td>6.000000e-08</td>\n",
       "      <td>0.208198</td>\n",
       "      <td>0.002778</td>\n",
       "      <td>2.272139e-02</td>\n",
       "    </tr>\n",
       "    <tr>\n",
       "      <th>3</th>\n",
       "      <td>physical</td>\n",
       "      <td>1.000000e-07</td>\n",
       "      <td>0.140000</td>\n",
       "      <td>0.013190</td>\n",
       "      <td>4.007278e-02</td>\n",
       "    </tr>\n",
       "  </tbody>\n",
       "</table>\n",
       "</div>"
      ],
      "text/plain": [
       "                Names       Minimum   Maximum  Mean/Mode  Standard Deviation\n",
       "0  aqueous suspension  1.000000e-06  0.000001   0.000001        1.070000e-21\n",
       "1          fumigation  1.140000e-05  0.000250   0.000178        1.107330e-04\n",
       "2   liquid suspension  6.000000e-08  0.208198   0.002778        2.272139e-02\n",
       "3            physical  1.000000e-07  0.140000   0.013190        4.007278e-02"
      ]
     },
     "execution_count": 17,
     "metadata": {},
     "output_type": "execute_result"
    }
   ],
   "source": [
    "import numpy as np\n",
    "import matplotlib.pyplot as plt\n",
    "import pandas as pd\n",
    "\n",
    "data = pd.read_csv('CouponVolumeData.csv')\n",
    "data"
   ]
  },
  {
   "cell_type": "code",
   "execution_count": 18,
   "metadata": {},
   "outputs": [
    {
     "data": {
      "image/png": "[encoded data removed]",
      "text/plain": [
       "<Figure size 504x360 with 1 Axes>"
      ]
     },
     "metadata": {},
     "output_type": "display_data"
    }
   ],
   "source": [
    "fig, ax = plt.subplots(figsize = (7, 5))\n",
    "x = np.arange(data.shape[0])\n",
    "ax.set_xticks(x)\n",
    "ax.set_xticklabels(data['Names'], rotation = 45)\n",
    "for tick in ax.xaxis.get_major_ticks():\n",
    "    tick.label.set_horizontalalignment('right')\n",
    "\n",
    "ax.set_ylim(-0.05, 0.25)\n",
    "\n",
    "for column in data.columns[1:-2]:\n",
    "    ax.scatter(x, data[column])\n",
    "\n",
    "ax.errorbar(x, data['Mean/Mode'], yerr = data['Standard Deviation'], \n",
    "            fmt = 's', color = 'black', zorder = 0, alpha = 0.2, lw = 10, capsize = 10, capthick = 2)\n",
    "\n",
    "ax.legend(data.columns[1:-2])\n",
    "plt.savefig('couponvolume.svg',bbox_inches=\"tight\")"
   ]
  }
 ],
 "metadata": {
  "kernelspec": {
   "display_name": "Python 3",
   "language": "python",
   "name": "python3"
  },
  "language_info": {
   "codemirror_mode": {
    "name": "ipython",
    "version": 3
   },
   "file_extension": ".py",
   "mimetype": "text/x-python",
   "name": "python",
   "nbconvert_exporter": "python",
   "pygments_lexer": "ipython3",
   "version": "3.7.4"
  }
 },
 "nbformat": 4,
 "nbformat_minor": 2
}
