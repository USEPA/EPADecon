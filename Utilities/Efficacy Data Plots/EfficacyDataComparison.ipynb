{
 "cells": [
  {
   "cell_type": "code",
   "execution_count": 1,
   "metadata": {},
   "outputs": [
    {
     "data": {
      "text/html": [
       "<div>\n",
       "<style scoped>\n",
       "    .dataframe tbody tr th:only-of-type {\n",
       "        vertical-align: middle;\n",
       "    }\n",
       "\n",
       "    .dataframe tbody tr th {\n",
       "        vertical-align: top;\n",
       "    }\n",
       "\n",
       "    .dataframe thead th {\n",
       "        text-align: right;\n",
       "    }\n",
       "</style>\n",
       "<table border=\"1\" class=\"dataframe\">\n",
       "  <thead>\n",
       "    <tr style=\"text-align: right;\">\n",
       "      <th></th>\n",
       "      <th>Names</th>\n",
       "      <th>Minimum</th>\n",
       "      <th>Maximum</th>\n",
       "      <th>Mean/Mode</th>\n",
       "      <th>Standard Deviation</th>\n",
       "    </tr>\n",
       "  </thead>\n",
       "  <tbody>\n",
       "    <tr>\n",
       "      <th>0</th>\n",
       "      <td>aerosol</td>\n",
       "      <td>0.400000</td>\n",
       "      <td>6.300000</td>\n",
       "      <td>2.652175</td>\n",
       "      <td>1.979885</td>\n",
       "    </tr>\n",
       "    <tr>\n",
       "      <th>1</th>\n",
       "      <td>foam ambiguous</td>\n",
       "      <td>0.046856</td>\n",
       "      <td>5.843982</td>\n",
       "      <td>1.238577</td>\n",
       "      <td>1.348344</td>\n",
       "    </tr>\n",
       "    <tr>\n",
       "      <th>2</th>\n",
       "      <td>fumigation/liquid</td>\n",
       "      <td>0.220000</td>\n",
       "      <td>7.910000</td>\n",
       "      <td>4.471875</td>\n",
       "      <td>3.065756</td>\n",
       "    </tr>\n",
       "    <tr>\n",
       "      <th>3</th>\n",
       "      <td>gel</td>\n",
       "      <td>0.298755</td>\n",
       "      <td>7.600000</td>\n",
       "      <td>3.870954</td>\n",
       "      <td>2.431432</td>\n",
       "    </tr>\n",
       "    <tr>\n",
       "      <th>4</th>\n",
       "      <td>immersion</td>\n",
       "      <td>2.160000</td>\n",
       "      <td>3.560000</td>\n",
       "      <td>2.855000</td>\n",
       "      <td>0.424039</td>\n",
       "    </tr>\n",
       "    <tr>\n",
       "      <th>5</th>\n",
       "      <td>liquid dropper</td>\n",
       "      <td>0.640000</td>\n",
       "      <td>1.100000</td>\n",
       "      <td>0.870000</td>\n",
       "      <td>0.325269</td>\n",
       "    </tr>\n",
       "  </tbody>\n",
       "</table>\n",
       "</div>"
      ],
      "text/plain": [
       "               Names   Minimum   Maximum  Mean/Mode  Standard Deviation\n",
       "0            aerosol  0.400000  6.300000   2.652175            1.979885\n",
       "1     foam ambiguous  0.046856  5.843982   1.238577            1.348344\n",
       "2  fumigation/liquid  0.220000  7.910000   4.471875            3.065756\n",
       "3                gel  0.298755  7.600000   3.870954            2.431432\n",
       "4          immersion  2.160000  3.560000   2.855000            0.424039\n",
       "5     liquid dropper  0.640000  1.100000   0.870000            0.325269"
      ]
     },
     "execution_count": 1,
     "metadata": {},
     "output_type": "execute_result"
    }
   ],
   "source": [
    "import numpy as np\n",
    "import matplotlib.pyplot as plt\n",
    "import pandas as pd\n",
    "\n",
    "data = pd.read_csv('EfficacyData.csv')\n",
    "data"
   ]
  },
  {
   "cell_type": "code",
   "execution_count": 4,
   "metadata": {},
   "outputs": [
    {
     "data": {
      "image/png": "[encoded data removed]",
      "text/plain": [
       "<Figure size 576x360 with 1 Axes>"
      ]
     },
     "metadata": {},
     "output_type": "display_data"
    }
   ],
   "source": [
    "fig, ax = plt.subplots(figsize = (8, 5))\n",
    "x = np.arange(data.shape[0])\n",
    "ax.set_xticks(x)\n",
    "ax.set_xticklabels(data['Names'], rotation = 45)\n",
    "for tick in ax.xaxis.get_major_ticks():\n",
    "    tick.label.set_horizontalalignment('right')\n",
    "\n",
    "ax.set_ylim(-1, 10)\n",
    "\n",
    "for column in data.columns[1:-2]:\n",
    "    ax.scatter(x, data[column])\n",
    "\n",
    "ax.errorbar(x, data['Mean/Mode'], yerr = data['Standard Deviation'], \n",
    "            fmt = 's', color = 'black', zorder = 0, alpha = 0.2, lw = 10, capsize = 10, capthick = 2)\n",
    "\n",
    "ax.legend(data.columns[1:-2])\n",
    "plt.savefig('efficacy.svg',bbox_inches=\"tight\")"
   ]
  }
 ],
 "metadata": {
  "kernelspec": {
   "display_name": "Python 3",
   "language": "python",
   "name": "python3"
  },
  "language_info": {
   "codemirror_mode": {
    "name": "ipython",
    "version": 3
   },
   "file_extension": ".py",
   "mimetype": "text/x-python",
   "name": "python",
   "nbconvert_exporter": "python",
   "pygments_lexer": "ipython3",
   "version": "3.6.5"
  }
 },
 "nbformat": 4,
 "nbformat_minor": 2
}
