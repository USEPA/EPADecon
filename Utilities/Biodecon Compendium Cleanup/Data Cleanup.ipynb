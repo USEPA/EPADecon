{
 "cells": [
  {
   "cell_type": "code",
   "execution_count": 1,
   "metadata": {},
   "outputs": [],
   "source": [
    "import pandas as pd\n",
    "import numpy as np"
   ]
  },
  {
   "cell_type": "code",
   "execution_count": 2,
   "metadata": {},
   "outputs": [],
   "source": [
    "# original master compendium data file\n",
    "df = pd.read_excel('BioDeconProcessed_Original.xlsx', sheet_name = 'ProcessedData')\n",
    "\n",
    "# surface for each record in order and the corresponding representative surface\n",
    "surfacesMaster = pd.read_excel('SurfacesMaster.xlsx', sheet_name = 'Sheet2')"
   ]
  },
  {
   "cell_type": "code",
   "execution_count": 3,
   "metadata": {},
   "outputs": [],
   "source": [
    "# pulling in the representative surfaces from the surface master and adding the column to the main data set\n",
    "df['RepSurface'] = surfacesMaster.RepSurface"
   ]
  },
  {
   "cell_type": "code",
   "execution_count": 4,
   "metadata": {},
   "outputs": [],
   "source": [
    "# create a smaller data frame with only relevant columns so we can further clean and convert this subset of data\n",
    "# hopefully with a more intuitive column order\n",
    "cd = pd.DataFrame()\n",
    "\n",
    "cd['Reference'] = df.Ref\n",
    "cd['AppMethod'] = df.AppMeth\n",
    "cd['Surface'] = df.RepSurface\n",
    "cd['Loading'] = df.LoadingNum\n",
    "cd['LoadingUn'] = df.LoadingUn\n",
    "cd['LPosRec'] = df.LPosRec\n",
    "cd['Area'] = df.CoupArea\n",
    "cd['AreaUn'] = df.CoupAreaUn\n",
    "cd['ConcDose'] = df.ConcDoseNum\n",
    "cd['ConcDoseUn'] = df.ConcDoseUn\n",
    "cd['OriginalConcDose'] = df.ConcDoseNum\n",
    "cd['OriginalConcDoseUn'] = df.ConcDoseUn\n",
    "cd['DeconAgent'] = surfacesMaster.GeneralDeconAgent\n",
    "cd['ClO2'] = df['ClO2(ppm)']\n",
    "cd['MB'] = df['MB(mg/L)']\n",
    "cd['H2O2'] = df['H2O2(ppm)']\n",
    "cd['VolApp'] = df.VolApp\n",
    "cd['VolAppUn'] = df.VolAppUn\n",
    "\n",
    "# temp is always given in celsius\n",
    "cd['Temp'] = df.TempNum\n",
    "\n",
    "# relative humidity is always given in %\n",
    "cd['RH'] = df.RHNum\n",
    "\n",
    "# conttimenummin is always given in minutes\n",
    "cd['ContTime'] = df.ContTimeNumMin\n",
    "cd['EffMeas'] = df.EffMeas\n",
    "cd['Eff'] = df.Eff\n",
    "cd['EffVar'] = df.EffVar\n",
    "cd['EffVarStat'] = df.EffVarStat\n",
    "\n",
    "cd['Positives'] = df.Positives\n",
    "cd['N'] = df.N\n",
    "\n",
    "# Nt is the number of spores that are recovered from the test coupon after treatment (this will need to be calculated)\n",
    "cd['Nt'] = np.nan\n",
    "\n",
    "# number of reapplications\n",
    "cd['ReApp'] = df.Reapp\n",
    "\n",
    "cd['Rinsate'] = df.Rinsate\n",
    "cd['RinsateUn'] = df.RinsateUn\n",
    "\n",
    "# indoor surface categories\n",
    "cd['IndoorInterior'] = surfacesMaster.IndoorInterior\n",
    "cd['IndoorExterior'] = surfacesMaster.IndoorExterior\n",
    "cd['IndoorCarpet'] = surfacesMaster.IndoorCarpet\n",
    "cd['IndoorNonCarpet'] = surfacesMaster.IndoorNonCarpet\n",
    "cd['IndoorCeilings'] = surfacesMaster.IndoorCeilings\n",
    "cd['HVAC'] = surfacesMaster.HVAC\n",
    "cd['IndoorMisc'] = surfacesMaster.IndoorMisc\n",
    "\n",
    "# outdoor surface categories\n",
    "cd['OutdoorExterior'] = surfacesMaster.OutdoorExterior\n",
    "cd['Roofing'] = surfacesMaster.Roofing\n",
    "cd['Pavement'] = surfacesMaster.Pavement\n",
    "cd['Water'] = surfacesMaster.Water\n",
    "cd['Soil'] = surfacesMaster.Soil\n",
    "cd['OutdoorMisc'] = surfacesMaster.OutdoorMisc\n",
    "\n",
    "# underground surface categories\n",
    "cd['UndergroundInterior'] = surfacesMaster.UndergroundInterior\n",
    "cd['UndergroundCarpet'] = surfacesMaster.UndergroundCarpet\n",
    "cd['UndergroundNonCarpet'] = surfacesMaster.UndergroundNonCarpet\n",
    "cd['UndergroundCeilings'] = surfacesMaster.UndergroundCeilings\n",
    "cd['UndergroundMisc'] = surfacesMaster.UndergroundMisc\n",
    "\n",
    "cd['Indoor'] = surfacesMaster.IndoorCategories\n",
    "cd['Outdoor'] = surfacesMaster.OutdoorCategories\n",
    "cd['Underground'] = surfacesMaster.UndergroundCategories"
   ]
  },
  {
   "cell_type": "code",
   "execution_count": 5,
   "metadata": {},
   "outputs": [],
   "source": [
    "# clean up inconsistent naming within string columns\n",
    "cd.loc[(cd.AppMethod == 'liquid (ambiguous)'),'AppMethod'] = 'liquid ambiguous'\n",
    "cd.loc[(cd.EffMeas == 'Qual Pos'), 'EffMeas'] = 'QualPos'\n",
    "cd.loc[(cd.EffMeas == 'Qualneg'), 'EffMeas'] = 'QualNeg'\n",
    "cd.loc[(cd.EffMeas == 'LRsurf'), 'EffMeas'] = 'LRSurf'\n",
    "cd.loc[(cd.EffMeas == 'Lsurv'), 'EffMeas'] = 'LSurv'\n",
    "cd.loc[(cd.AreaUn == 'inch^2'), 'AreaUn'] = 'in^2'\n",
    "cd.loc[(cd.LoadingUn == 'spores/L'), 'LoadingUn'] = 'CFU/L'"
   ]
  },
  {
   "cell_type": "code",
   "execution_count": 6,
   "metadata": {},
   "outputs": [],
   "source": [
    "# clean numerical columns of various strings\n",
    "strings = ['unlisted', 'undefined', 'not reported', 'Not reported', 'Not Reported', 'not applicable', 'Not Applicable', \n",
    "           'ambiguous', 'Ambiguous', 'authors censor', 'inconclusive', 'NA', 'nd', 'No Value', 'not significant', 'NT', 'NR', \n",
    "           'as needed to keep wetted', 'Not significant', 'until wetted', 'trigger pulls of sprayer', '0.5 LR', 'no rinsate',\n",
    "           'discarded', 'combined', 'discarded (but spores filtered out)']\n",
    "\n",
    "for i in strings:\n",
    "    cd.loc[cd.Loading == i, 'Loading'] = np.nan\n",
    "    cd.loc[cd.Area == i, 'Area'] = np.nan\n",
    "    cd.loc[cd.Eff == i, 'Eff'] = np.nan\n",
    "    cd.loc[cd.LPosRec == i, 'LPosRec'] = np.nan\n",
    "    cd.loc[cd.Temp == i, 'Temp'] = np.nan\n",
    "    cd.loc[cd.RH == i, 'RH'] = np.nan\n",
    "    cd.loc[cd.ReApp == i, 'ReApp'] = np.nan\n",
    "    cd.loc[cd.VolApp == i, 'VolApp'] = np.nan\n",
    "    cd.loc[cd.VolAppUn == i, 'VolAppUn'] = np.nan\n",
    "    cd.loc[cd.ConcDose == i, 'ConcDose'] = np.nan\n",
    "    cd.loc[cd.ConcDoseUn == i, 'ConcDoseUn'] = np.nan\n",
    "    cd.loc[cd.Rinsate == i, 'Rinsate'] = np.nan\n",
    "    cd.loc[cd.N == i, 'N'] = np.nan\n",
    "\n",
    "# a few more strings need to be resolved\n",
    "# as per the compendium, '>' and '<' are simply removed from values\n",
    "cd.loc[cd.Eff == '>7', 'Eff'] = 7\n",
    "cd.loc[cd.Eff == '>6', 'Eff'] = 6\n",
    "cd.loc[cd.N == '>3', 'N'] = 3\n",
    "cd.loc[cd.N == '>1', 'N'] = 1\n",
    "cd.loc[cd.N == '>2', 'N'] = 2\n",
    "cd.loc[cd.N == '>5', 'N'] = 5\n",
    "cd.loc[cd.N == '> 1', 'N'] = 1\n",
    "\n",
    "# as per the compendium, ranges are always converted to the average except for the loading column (min is taken)\n",
    "cd.loc[cd.Eff == '50-75', 'Eff'] = 50\n",
    "cd.loc[cd.Area == '100-361', 'Area'] = 100\n",
    "cd.loc[cd.N == '2 or 4', 'N'] = 2\n",
    "cd.loc[cd.N == '\"2-4\"', 'N'] = 2\n",
    "\n",
    "# convert these numerical columns to floats\n",
    "cd['Loading'] = cd.Loading.astype(float)\n",
    "cd['Area'] = cd.Area.astype(float)\n",
    "cd['Eff'] = cd.Eff.astype(float)\n",
    "cd['LPosRec'] = cd.LPosRec.astype(float)\n",
    "cd['Temp'] = cd.Temp.astype(float)\n",
    "cd['RH'] = cd.RH.astype(float)\n",
    "cd['ReApp'] = cd.ReApp.astype(float)\n",
    "cd['VolApp'] = cd.VolApp.astype(float)\n",
    "cd['ConcDose'] = cd.ConcDose.astype(float)\n",
    "cd['ClO2'] = cd.ClO2.astype(float)\n",
    "cd['MB'] = cd.MB.astype(float)\n",
    "cd['H2O2'] = cd.H2O2.astype(float)\n",
    "cd['Positives'] = cd.Positives.astype(float)\n",
    "cd['N'] = cd.N.astype(float)"
   ]
  },
  {
   "cell_type": "code",
   "execution_count": 7,
   "metadata": {},
   "outputs": [],
   "source": [
    "# fix ambiguous naming of application methods than can be condensed\n",
    "cd.loc[(cd.AppMethod == 'liquid'), 'AppMethod'] = 'liquid ambiguous'\n",
    "cd.loc[(cd.AppMethod == 'liquid ambiguous'), 'AppMethod'] = 'liquid spray'\n",
    "cd.loc[(cd.AppMethod == 'fumigation/liquid'), 'AppMethod'] = 'liquid spray'\n",
    "cd.loc[(cd.AppMethod == 'liquid dropper'), 'AppMethod'] = 'liquid spray'\n",
    "cd.loc[(cd.AppMethod == 'immersion'), 'AppMethod'] = 'liquid immersion'\n",
    "cd.loc[(cd.AppMethod == 'foam ambiguous'), 'AppMethod'] = 'foam spray'"
   ]
  },
  {
   "cell_type": "code",
   "execution_count": 8,
   "metadata": {},
   "outputs": [],
   "source": [
    "# remove records that don't list a treatment application method\n",
    "appMethToDrop = [np.nan]\n",
    "\n",
    "cd = cd[cd.AppMethod.apply(lambda x: x not in appMethToDrop)].copy()"
   ]
  },
  {
   "cell_type": "code",
   "execution_count": 9,
   "metadata": {},
   "outputs": [],
   "source": [
    "# remove all qualpos/qualneg records\n",
    "effToDrop = ['QualPos', 'QualNeg']\n",
    "\n",
    "cd = cd[cd.EffMeas.apply(lambda x: x not in effToDrop)].copy()"
   ]
  },
  {
   "cell_type": "code",
   "execution_count": 10,
   "metadata": {},
   "outputs": [],
   "source": [
    "# dropping all records that provide loading in CFU but give no area as these cannot be converted to CFU/area\n",
    "indexCfuNoArea = cd[(cd['LoadingUn'] == 'CFU') & (np.isnan(cd['Area']))].index\n",
    "cd.drop(indexCfuNoArea, inplace=True)"
   ]
  },
  {
   "cell_type": "code",
   "execution_count": 11,
   "metadata": {},
   "outputs": [],
   "source": [
    "# changing the label of LRSurf to LR since we found out that there really isn't a distinction between\n",
    "# the two based on EPA methodology\n",
    "cd.loc[(cd.EffMeas == 'LRSurf'), 'EffMeas'] = 'LR'"
   ]
  },
  {
   "cell_type": "code",
   "execution_count": 12,
   "metadata": {},
   "outputs": [],
   "source": [
    "# dividing all survfrac values greater than 1 by 100 as they are likely given in percentages but should be decimals\n",
    "cd.loc[(cd.EffMeas == 'SurvFrac') & (cd.Eff > 1), 'Eff'] = cd['Eff'] / 100"
   ]
  },
  {
   "cell_type": "code",
   "execution_count": 13,
   "metadata": {},
   "outputs": [],
   "source": [
    "# converting various efficacies to Nt\n",
    "cd.loc[(cd.EffMeas == 'LSurv'), 'Nt'] = 10 ** cd['Eff']\n",
    "cd.loc[(cd.EffMeas == '%Surv'), 'Nt'] = (cd['Eff'] / 100) * cd['Loading']\n",
    "cd.loc[(cd.EffMeas == '%Kill'), 'Nt'] = (-1 * cd['Loading']) * (cd['Eff'] / 100)\n",
    "cd.loc[(cd.EffMeas == 'LR'), 'Nt'] = 10 ** (cd['LPosRec'] - cd['Eff'])\n",
    "cd.loc[(cd.EffMeas == 'SurvFrac'), 'Nt'] = cd['Loading'] * cd['Eff']"
   ]
  },
  {
   "cell_type": "code",
   "execution_count": 14,
   "metadata": {},
   "outputs": [],
   "source": [
    "# converting all of the areas/volumes (and in some cases mass) in CoupArea\n",
    "# to either cm^2 or cm^3 (or g for mass) so we have a standard\n",
    "cd.loc[(cd.AreaUn == 'mL'),'AreaUn'] = 'cm^3'\n",
    "\n",
    "cd.loc[(cd.AreaUn == 'L'),'Area'] = cd['Area'] * 1000\n",
    "cd.loc[(cd.AreaUn == 'L'),'AreaUn'] = 'cm^3'\n",
    "\n",
    "cd.loc[(cd.AreaUn == 'gallon'),'Area'] = cd['Area'] * 3785.41\n",
    "cd.loc[(cd.AreaUn == 'gallon'),'AreaUn'] = 'cm^3'\n",
    "\n",
    "cd.loc[(cd.AreaUn == 'm^3'),'Area'] = cd['Area'] * 1000000\n",
    "cd.loc[(cd.AreaUn == 'm^3'),'AreaUn'] = 'cm^3'\n",
    "\n",
    "cd.loc[(cd.AreaUn == 'uL'),'Area'] = cd['Area'] * 0.001\n",
    "cd.loc[(cd.AreaUn == 'uL'),'AreaUn'] = 'cm^3'\n",
    "\n",
    "cd.loc[(cd.AreaUn == 'm^2'),'Area'] = cd['Area'] * 10000\n",
    "cd.loc[(cd.AreaUn == 'm^2'),'AreaUn'] = 'cm^2'\n",
    "\n",
    "cd.loc[(cd.AreaUn == 'mm^2'),'Area'] = cd['Area'] * 0.01\n",
    "cd.loc[(cd.AreaUn == 'mm^2'),'AreaUn'] = 'cm^2'\n",
    "\n",
    "cd.loc[(cd.AreaUn == 'ft^2'),'Area'] = cd['Area'] * 929.03\n",
    "cd.loc[(cd.AreaUn == 'ft^2'),'AreaUn'] = 'cm^2'\n",
    "\n",
    "cd.loc[(cd.AreaUn == 'in^2'),'Area'] = cd['Area'] * 6.4516\n",
    "cd.loc[(cd.AreaUn == 'in^2'),'AreaUn'] = 'cm^2'\n",
    "\n",
    "cd.loc[(cd.AreaUn == 'kg'),'Area'] = cd['Area'] * 1000\n",
    "cd.loc[(cd.AreaUn == 'kg'),'AreaUn'] = 'g'"
   ]
  },
  {
   "cell_type": "code",
   "execution_count": 15,
   "metadata": {},
   "outputs": [],
   "source": [
    "# converting all of the VolApps to mL\n",
    "cd.loc[(cd.VolAppUn == 'uL'),'VolApp'] = cd['VolApp'] * 0.001\n",
    "cd.loc[(cd.VolAppUn == 'uL'),'VolAppUn'] = 'mL'\n",
    "\n",
    "cd.loc[(cd.VolAppUn == 'L'),'VolApp'] = cd['VolApp'] * 1000\n",
    "cd.loc[(cd.VolAppUn == 'L'),'VolAppUn'] = 'mL'\n",
    "\n",
    "cd.loc[(cd.VolAppUn == 'L/m^2'),'VolApp'] = cd['VolApp'] * 1000\n",
    "cd.loc[(cd.VolAppUn == 'L/m^2'),'VolAppUn'] = 'mL/m^2'"
   ]
  },
  {
   "cell_type": "code",
   "execution_count": 16,
   "metadata": {},
   "outputs": [],
   "source": [
    "# dividing the VolApp by the area of the coupon for those with units of mL or g\n",
    "cd.loc[(cd.VolAppUn == 'mL') & (pd.isnull(cd.Area) == False),'VolApp'] = cd['VolApp'] / cd['Area']\n",
    "cd.loc[(cd.VolAppUn == 'g') & (pd.isnull(cd.Area) == False),'VolApp'] = cd['VolApp'] / cd['Area']\n",
    "cd.loc[(cd.VolAppUn == 'mL') & (pd.isnull(cd.Area) == False),'VolAppUn'] = cd['VolAppUn'] + '/' + cd['AreaUn']\n",
    "cd.loc[(cd.VolAppUn == 'g') & (pd.isnull(cd.Area) == False),'VolAppUn'] = cd['VolAppUn'] + '/' + cd['AreaUn']"
   ]
  },
  {
   "cell_type": "code",
   "execution_count": 17,
   "metadata": {},
   "outputs": [],
   "source": [
    "# converting the m^2 and m^3 provided in the VolAppUn to cm^2 and cm^3 in line with the conversions done on coupon area\n",
    "cd.loc[(cd.VolAppUn == 'mL/m^2'),'VolApp'] = cd['VolApp'] * 0.01\n",
    "cd.loc[(cd.VolAppUn == 'mL/m^2'),'VolAppUn'] = 'mL/cm^2'\n",
    "\n",
    "cd.loc[(cd.VolAppUn == 'mL/m^3'),'VolApp'] = cd['VolApp'] * 0.01\n",
    "cd.loc[(cd.VolAppUn == 'mL/m^3'),'VolAppUn'] = 'mL/cm^3'"
   ]
  },
  {
   "cell_type": "code",
   "execution_count": 18,
   "metadata": {},
   "outputs": [],
   "source": [
    "# converting all of the loadings to CFU/cm^2 or CFU/cm^3\n",
    "# we also need to convert the PosRec and Nt at the same time since they (should) have the same units as the Loading\n",
    "cd.loc[(cd.LoadingUn == 'CFU/L'),'Loading'] = cd['Loading'] / 1000\n",
    "cd.loc[(cd.LoadingUn == 'CFU/L'),'LPosRec'] = np.log10((10 ** cd['LPosRec']) / 1000)\n",
    "cd.loc[(cd.LoadingUn == 'CFU/L'),'Nt'] = cd['Nt'] / 1000\n",
    "cd.loc[(cd.LoadingUn == 'CFU/L'),'LoadingUn'] = 'CFU/cm^3'\n",
    "\n",
    "cd.loc[(cd.LoadingUn == 'CFU/100cm^2'),'Loading'] = cd['Loading'] / 100\n",
    "cd.loc[(cd.LoadingUn == 'CFU/L'),'LPosRec'] = np.log10((10 ** cd['LPosRec']) / 100)\n",
    "cd.loc[(cd.LoadingUn == 'CFU/100cm^2'),'Nt'] = cd['Nt'] / 100\n",
    "cd.loc[(cd.LoadingUn == 'CFU/100cm^2'),'LoadingUn'] = 'CFU/cm^2'\n",
    "\n",
    "cd.loc[(cd.LoadingUn == 'CFU/mL'),'LoadingUn'] = 'CFU/cm^3'\n",
    "cd.loc[(cd.LoadingUn == 'CFU/mL'),'LoadingUn'] = 'CFU/cm^3'\n",
    "\n",
    "# convert the loadings given in log(CFU) to just CFU\n",
    "cd.loc[(cd.LoadingUn == 'log(CFU)'),'Loading'] = 10 ** cd['Loading']\n",
    "cd.loc[(cd.LoadingUn == 'log(CFU)'),'LoadingUn'] = 'CFU'"
   ]
  },
  {
   "cell_type": "code",
   "execution_count": 19,
   "metadata": {},
   "outputs": [],
   "source": [
    "# dividing all of the Loadings, PosRecs, and Nts by the area of the coupon for those with units of CFU \n",
    "cd.loc[(cd.LoadingUn == 'CFU') & (pd.isnull(cd.Area) == False),'Loading'] = cd['Loading'] / cd['Area']\n",
    "cd.loc[(cd.LoadingUn == 'CFU') & (pd.isnull(cd.Area) == False),'LPosRec'] = np.log10((10 ** cd['LPosRec']) / cd['Area'])\n",
    "cd.loc[(cd.LoadingUn == 'CFU') & (pd.isnull(cd.Area) == False),'Nt'] = cd['Nt'] / cd['Area']\n",
    "cd.loc[(cd.LoadingUn == 'CFU') & (cd.AreaUn == 'cm^3') & (pd.isnull(cd.Area) == False),'LoadingUn'] = 'CFU/cm^3'\n",
    "cd.loc[(cd.LoadingUn == 'CFU') & (cd.AreaUn == 'cm^2') & (pd.isnull(cd.Area) == False),'LoadingUn'] = 'CFU/cm^2'\n",
    "cd.loc[(cd.LoadingUn == 'CFU') & (cd.AreaUn == 'g') & (pd.isnull(cd.Area) == False),'LoadingUn'] = 'CFU/g'"
   ]
  },
  {
   "cell_type": "code",
   "execution_count": 20,
   "metadata": {},
   "outputs": [],
   "source": [
    "# remove units for empty doses\n",
    "cd.loc[(np.isnan(cd['ConcDose'])),'ConcDoseUn'] = np.nan"
   ]
  },
  {
   "cell_type": "code",
   "execution_count": 21,
   "metadata": {},
   "outputs": [],
   "source": [
    "# concdoseun conversions\n",
    "# we don't actually need all of these conversions but I'm leaving them in because we may need them in the future\n",
    "cd.loc[(cd.ConcDoseUn == 'v%'),'ConcDoseUn'] = 'vol%'\n",
    "cd.loc[(cd.ConcDoseUn == '%'),'ConcDoseUn'] = 'vol%'\n",
    "cd.loc[(cd.ConcDoseUn == '% ambiguous'),'ConcDoseUn'] = 'vol%'\n",
    "cd.loc[(cd.ConcDoseUn == '% (ambiguous)'),'ConcDoseUn'] = 'vol%'\n",
    "\n",
    "cd.loc[(cd.ConcDoseUn == 'wt% (liquid applied)'),'ConcDoseUn'] = 'wt%'\n",
    "cd.loc[(cd.ConcDoseUn == 'wt% in wetting liquid'),'ConcDoseUn'] = 'wt%'\n",
    "\n",
    "cd.loc[(cd.ConcDoseUn == 'wt%'),'ConcDose'] = cd['ConcDose'] * 10000\n",
    "cd.loc[(cd.ConcDoseUn == 'wt%'),'ConcDoseUn'] = 'mg/L'\n",
    "\n",
    "cd.loc[(cd.ConcDoseUn == 'wt% NaOCl'),'ConcDose'] = cd['ConcDose'] * 10000\n",
    "cd.loc[(cd.ConcDoseUn == 'wt% NaOCl'),'ConcDoseUn'] = 'mg/L'\n",
    "\n",
    "cd.loc[(cd.ConcDoseUn == '% wt/vol (ambiguous)'),'ConcDose'] = cd['ConcDose'] * 10000\n",
    "cd.loc[(cd.ConcDoseUn == '% wt/vol (ambiguous)'),'ConcDoseUn'] = 'mg/L'\n",
    "\n",
    "cd.loc[(cd.ConcDoseUn == '% wt/vol'),'ConcDose'] = cd['ConcDose'] * 10000\n",
    "cd.loc[(cd.ConcDoseUn == '% wt/vol'),'ConcDoseUn'] = 'mg/L'\n",
    "\n",
    "cd.loc[(cd.ConcDoseUn == '% w/v'),'ConcDose'] = cd['ConcDose'] * 10000\n",
    "cd.loc[(cd.ConcDoseUn == '% w/v'),'ConcDoseUn'] = 'mg/L'\n",
    "\n",
    "cd.loc[(cd.ConcDoseUn == 'ppmv'),'ConcDoseUn'] = 'mg/L'\n",
    "cd.loc[(cd.ConcDoseUn == 'ppm'),'ConcDoseUn'] = 'mg/L'\n",
    "\n",
    "cd.loc[(cd.ConcDoseUn == 'ug/L FAC'),'ConcDoseUn'] = 'ug/L'\n",
    "cd.loc[(cd.ConcDoseUn == 'ppm'),'ConcDoseUn'] = 'mg/L'\n",
    "cd.loc[(cd.ConcDoseUn == 'maximum ppm'),'ConcDoseUn'] = 'mg/L'\n",
    "cd.loc[(cd.ConcDoseUn == 'FAC ppm (FAC mg/L)'),'ConcDoseUn'] = 'mg/L'\n",
    "cd.loc[(cd.ConcDoseUn == 'mg tablet/L'),'ConcDoseUn'] = 'mg/L'\n",
    "\n",
    "cd.loc[(cd.ConcDoseUn == 'mg/L'),'ConcDose'] = cd['ConcDose'] / 1000000\n",
    "cd.loc[(cd.ConcDoseUn == 'mg/L'),'ConcDoseUn'] = 'g/mL'\n",
    "\n",
    "cd.loc[(cd.ConcDoseUn == 'g/m^3'),'ConcDose'] = cd['ConcDose'] / 1000000\n",
    "cd.loc[(cd.ConcDoseUn == 'g/m^3'),'ConcDoseUn'] = 'g/mL'\n",
    "\n",
    "cd.loc[(cd.ConcDoseUn == 'g/L'),'ConcDose'] = cd['ConcDose'] / 1000\n",
    "cd.loc[(cd.ConcDoseUn == 'g/L'),'ConcDoseUn'] = 'g/mL'\n",
    "\n",
    "cd.loc[(cd.ConcDoseUn == 'mg/mL'),'ConcDose'] = cd['ConcDose'] / 1000\n",
    "cd.loc[(cd.ConcDoseUn == 'mg/mL'),'ConcDoseUn'] = 'g/mL'\n",
    "\n",
    "cd.loc[(cd.ConcDoseUn == 'ug/mL'),'ConcDose'] = cd['ConcDose'] / 1000000\n",
    "cd.loc[(cd.ConcDoseUn == 'ug/mL'),'ConcDoseUn'] = 'g/mL'\n",
    "\n",
    "cd.loc[(cd.ConcDoseUn == 'ug/L'),'ConcDose'] = cd['ConcDose'] / 1000000000\n",
    "cd.loc[(cd.ConcDoseUn == 'ug/L'),'ConcDoseUn'] = 'g/mL'\n",
    "\n",
    "cd.loc[(cd.ConcDoseUn == 'J/m^2'),'ConcDose'] = cd['ConcDose'] / 100\n",
    "cd.loc[(cd.ConcDoseUn == 'J/m^2'),'ConcDoseUn'] = 'J/cm^2'\n",
    "\n",
    "cd.loc[(cd.ConcDoseUn == 'mJ/cm^2'),'ConcDose'] = cd['ConcDose'] / 1000\n",
    "cd.loc[(cd.ConcDoseUn == 'mJ/cm^2'),'ConcDoseUn'] = 'J/cm^2'\n",
    "\n",
    "cd.loc[(cd.ConcDoseUn == 'kJ'),'ConcDose'] = cd['ConcDose'] * 1000\n",
    "cd.loc[(cd.ConcDoseUn == 'kJ'),'ConcDoseUn'] = 'J'\n",
    "\n",
    "cd.loc[(cd.ConcDoseUn == 'uW/cm^2'),'ConcDose'] = cd['ConcDose'] / 1000000\n",
    "cd.loc[(cd.ConcDoseUn == 'uW/cm^2'),'ConcDoseUn'] = 'W/cm^2'\n",
    "\n",
    "cd.loc[(cd.ConcDoseUn == 'kW/cm^2'),'ConcDose'] = cd['ConcDose'] * 1000\n",
    "cd.loc[(cd.ConcDoseUn == 'kW/cm^2'),'ConcDoseUn'] = 'W/cm^2'\n",
    "\n",
    "cd.loc[(cd.ConcDoseUn == 'kW/m^2'),'ConcDose'] = cd['ConcDose'] / 10\n",
    "cd.loc[(cd.ConcDoseUn == 'kW/m^2'),'ConcDoseUn'] = 'W/cm^2'\n",
    "\n",
    "cd.loc[(cd.ConcDoseUn == 'mW/cm^2'),'ConcDose'] = cd['ConcDose'] / 1000\n",
    "cd.loc[(cd.ConcDoseUn == 'mW/cm^2'),'ConcDoseUn'] = 'W/cm^2'\n",
    "\n",
    "cd.loc[(cd.ConcDoseUn == 'W/m^2'),'ConcDose'] = cd['ConcDose'] / 10000\n",
    "cd.loc[(cd.ConcDoseUn == 'W/m^2'),'ConcDoseUn'] = 'W/cm^2'\n",
    "\n",
    "cd.loc[(cd.ConcDoseUn == 'mM'),'ConcDose'] = cd['ConcDose'] / 1000\n",
    "cd.loc[(cd.ConcDoseUn == 'mM'),'ConcDoseUn'] = 'M'"
   ]
  },
  {
   "cell_type": "code",
   "execution_count": 22,
   "metadata": {},
   "outputs": [],
   "source": [
    "# replace all negative contact times with 0\n",
    "cd.loc[(cd.ContTime < 0),'ContTime'] = 0"
   ]
  },
  {
   "cell_type": "code",
   "execution_count": 23,
   "metadata": {},
   "outputs": [],
   "source": [
    "# changing all null values to 0 under the assumption that if a value isn't given \n",
    "# the number of applications should be at least 1\n",
    "cd.loc[(np.isnan(cd['ReApp'])),'ReApp'] = 0"
   ]
  },
  {
   "cell_type": "code",
   "execution_count": 24,
   "metadata": {},
   "outputs": [],
   "source": [
    "# calculating the total number of applications\n",
    "cd['TotalApp'] = cd['ReApp'] + 1"
   ]
  },
  {
   "cell_type": "code",
   "execution_count": 25,
   "metadata": {},
   "outputs": [],
   "source": [
    "# export the cleaned dataset to an excel file\n",
    "cd.to_excel(\"cleaned_data.xlsx\", sheet_name='master')"
   ]
  }
 ],
 "metadata": {
  "kernelspec": {
   "display_name": "Python 3",
   "language": "python",
   "name": "python3"
  },
  "language_info": {
   "codemirror_mode": {
    "name": "ipython",
    "version": 3
   },
   "file_extension": ".py",
   "mimetype": "text/x-python",
   "name": "python",
   "nbconvert_exporter": "python",
   "pygments_lexer": "ipython3",
   "version": "3.6.5"
  }
 },
 "nbformat": 4,
 "nbformat_minor": 2
}
